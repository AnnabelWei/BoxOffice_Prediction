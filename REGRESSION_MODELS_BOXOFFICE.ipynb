{
  "nbformat": 4,
  "nbformat_minor": 5,
  "metadata": {
    "noteable-chatgpt": {
      "create_notebook": {
        "openai_conversation_id": "63d9426e-f177-55a2-aba6-5b665c677ad5",
        "openai_ephemeral_user_id": "9e8c8fec-549e-5f76-825c-ec9b863eb365",
        "openai_subdivision1_iso_code": "PK-PB"
      }
    },
    "kernel_info": {
      "name": "python3"
    },
    "kernelspec": {
      "display_name": "Python 3.9",
      "language": "python",
      "name": "python3"
    },
    "selected_hardware_size": "small",
    "colab": {
      "provenance": [],
      "include_colab_link": true
    }
  },
  "cells": [
    {
      "cell_type": "markdown",
      "metadata": {
        "id": "view-in-github",
        "colab_type": "text"
      },
      "source": [
        "<a href=\"https://colab.research.google.com/github/AnnabelWei/BoxOffice_Prediction/blob/main/REGRESSION_MODELS_BOXOFFICE.ipynb\" target=\"_parent\"><img src=\"https://colab.research.google.com/assets/colab-badge.svg\" alt=\"Open In Colab\"/></a>"
      ]
    },
    {
      "id": "d925731c-fa1e-4ab0-83a7-2fda098fd97f",
      "cell_type": "markdown",
      "source": [
        "## Installing Libraries and Loading Data\n",
        "\n",
        "In this step, we'll install the necessary libraries for our regression models, namely XGBoost, CatBoost, and LightGBM. After that, we'll load the cleaned data that we prepared in the previous module."
      ],
      "metadata": {
        "noteable": {
          "cell_type": "markdown"
        },
        "id": "d925731c-fa1e-4ab0-83a7-2fda098fd97f"
      }
    },
    {
      "id": "5428a833-a598-4572-8b90-183fe72dd254",
      "cell_type": "code",
      "metadata": {
        "noteable": {
          "cell_type": "code",
          "output_collection_id": "848f59e9-acff-40b5-a8df-daaa39784123"
        },
        "ExecuteTime": {
          "end_time": "2023-09-14T18:29:01.880677+00:00",
          "start_time": "2023-09-14T18:28:50.358846+00:00"
        },
        "colab": {
          "base_uri": "https://localhost:8080/"
        },
        "id": "5428a833-a598-4572-8b90-183fe72dd254",
        "outputId": "8d4dc605-3a34-4ec5-c17e-a68910214268"
      },
      "execution_count": null,
      "source": [
        "!pip install -q xgboost catboost lightgbm"
      ],
      "outputs": [
        {
          "output_type": "stream",
          "name": "stdout",
          "text": [
            "\u001b[2K     \u001b[90m━━━━━━━━━━━━━━━━━━━━━━━━━━━━━━━━━━━━━━━━\u001b[0m \u001b[32m98.7/98.7 MB\u001b[0m \u001b[31m8.6 MB/s\u001b[0m eta \u001b[36m0:00:00\u001b[0m\n",
            "\u001b[?25h"
          ]
        }
      ]
    },
    {
      "id": "30db30d4-c229-4e3e-a4e5-bb454031a08b",
      "cell_type": "code",
      "metadata": {
        "noteable": {
          "cell_type": "code",
          "output_collection_id": "5eec080e-533f-4493-91bb-41829756e2a0"
        },
        "ExecuteTime": {
          "end_time": "2023-09-14T18:29:02.234198+00:00",
          "start_time": "2023-09-14T18:29:01.941998+00:00"
        },
        "datalink": {
          "6c4da28f-8e54-46ba-ac00-d3f4fcb6dde7": {
            "applied_filters": [],
            "dataframe_info": {
              "default_index_used": true,
              "orig_num_cols": 43,
              "orig_num_rows": 5,
              "orig_size_bytes": 1760,
              "truncated_num_cols": 43,
              "truncated_num_rows": 5,
              "truncated_size_bytes": 1760,
              "truncated_string_columns": []
            },
            "display_id": "6c4da28f-8e54-46ba-ac00-d3f4fcb6dde7",
            "dx_settings": {
              "ALLOW_NOTEABLE_ATTRS": true,
              "COLUMN_SAMPLING_METHOD": "outer",
              "DB_LOCATION": ":memory:",
              "DEV_MODE": false,
              "DISPLAY_MAX_COLUMNS": 100,
              "DISPLAY_MAX_ROWS": 50000,
              "DISPLAY_MODE": "simple",
              "ENABLE_ASSIGNMENT": true,
              "ENABLE_DATALINK": true,
              "FLATTEN_COLUMN_VALUES": true,
              "FLATTEN_INDEX_VALUES": false,
              "GENERATE_DEX_METADATA": false,
              "HTML_TABLE_SCHEMA": false,
              "LOG_LEVEL": 30,
              "MAX_RENDER_SIZE_BYTES": 104857600,
              "MAX_STRING_LENGTH": 250,
              "NUM_PAST_SAMPLES_TRACKED": 3,
              "RANDOM_STATE": 12648430,
              "RESET_INDEX_VALUES": false,
              "ROW_SAMPLING_METHOD": "random",
              "SAMPLING_FACTOR": 0.1,
              "SAMPLING_METHOD": "random",
              "STRINGIFY_COLUMN_VALUES": true,
              "STRINGIFY_INDEX_VALUES": false
            },
            "sample_history": [],
            "sampling_time": "2023-09-14T11:49:41.152753",
            "user_variable_name": null,
            "variable_name": "unk_dataframe_937c6d471da54ae4accae0c88dee7132"
          },
          "0b7166c0-11c6-4d80-8fe9-bd663898d4b8": {
            "applied_filters": [],
            "dataframe_info": {
              "default_index_used": true,
              "orig_num_cols": 43,
              "orig_num_rows": 5,
              "orig_size_bytes": 1760,
              "truncated_num_cols": 43,
              "truncated_num_rows": 5,
              "truncated_size_bytes": 1760,
              "truncated_string_columns": []
            },
            "display_id": "0b7166c0-11c6-4d80-8fe9-bd663898d4b8",
            "dx_settings": {
              "ALLOW_NOTEABLE_ATTRS": true,
              "COLUMN_SAMPLING_METHOD": "outer",
              "DB_LOCATION": ":memory:",
              "DEV_MODE": false,
              "DISPLAY_MAX_COLUMNS": 100,
              "DISPLAY_MAX_ROWS": 50000,
              "DISPLAY_MODE": "simple",
              "ENABLE_ASSIGNMENT": true,
              "ENABLE_DATALINK": true,
              "FLATTEN_COLUMN_VALUES": true,
              "FLATTEN_INDEX_VALUES": false,
              "GENERATE_DEX_METADATA": false,
              "HTML_TABLE_SCHEMA": false,
              "LOG_LEVEL": 30,
              "MAX_RENDER_SIZE_BYTES": 104857600,
              "MAX_STRING_LENGTH": 250,
              "NUM_PAST_SAMPLES_TRACKED": 3,
              "RANDOM_STATE": 12648430,
              "RESET_INDEX_VALUES": false,
              "ROW_SAMPLING_METHOD": "random",
              "SAMPLING_FACTOR": 0.1,
              "SAMPLING_METHOD": "random",
              "STRINGIFY_COLUMN_VALUES": true,
              "STRINGIFY_INDEX_VALUES": false
            },
            "sample_history": [],
            "sampling_time": "2023-09-14T12:09:16.080537",
            "user_variable_name": null,
            "variable_name": "unk_dataframe_2f1e71900c1042faab80a833c3de1435"
          },
          "ad26316d-117d-42f8-a71a-327b950732e7": {
            "applied_filters": [],
            "dataframe_info": {
              "default_index_used": true,
              "orig_num_cols": 43,
              "orig_num_rows": 5,
              "orig_size_bytes": 1760,
              "truncated_num_cols": 43,
              "truncated_num_rows": 5,
              "truncated_size_bytes": 1760,
              "truncated_string_columns": []
            },
            "display_id": "ad26316d-117d-42f8-a71a-327b950732e7",
            "dx_settings": {
              "ALLOW_NOTEABLE_ATTRS": true,
              "COLUMN_SAMPLING_METHOD": "outer",
              "DB_LOCATION": ":memory:",
              "DEV_MODE": false,
              "DISPLAY_MAX_COLUMNS": 100,
              "DISPLAY_MAX_ROWS": 50000,
              "DISPLAY_MODE": "simple",
              "ENABLE_ASSIGNMENT": true,
              "ENABLE_DATALINK": true,
              "FLATTEN_COLUMN_VALUES": true,
              "FLATTEN_INDEX_VALUES": false,
              "GENERATE_DEX_METADATA": false,
              "HTML_TABLE_SCHEMA": false,
              "LOG_LEVEL": 30,
              "MAX_RENDER_SIZE_BYTES": 104857600,
              "MAX_STRING_LENGTH": 250,
              "NUM_PAST_SAMPLES_TRACKED": 3,
              "RANDOM_STATE": 12648430,
              "RESET_INDEX_VALUES": false,
              "ROW_SAMPLING_METHOD": "random",
              "SAMPLING_FACTOR": 0.1,
              "SAMPLING_METHOD": "random",
              "STRINGIFY_COLUMN_VALUES": true,
              "STRINGIFY_INDEX_VALUES": false
            },
            "sample_history": [],
            "sampling_time": "2023-09-14T13:33:23.063675",
            "user_variable_name": null,
            "variable_name": "unk_dataframe_ae1e51fae01342aeba712b17e426910a"
          },
          "b6e3f362-5be2-4c77-84ab-391a3715a6bc": {
            "applied_filters": [],
            "dataframe_info": {
              "default_index_used": true,
              "orig_num_cols": 43,
              "orig_num_rows": 5,
              "orig_size_bytes": 1760,
              "truncated_num_cols": 43,
              "truncated_num_rows": 5,
              "truncated_size_bytes": 1760,
              "truncated_string_columns": []
            },
            "display_id": "b6e3f362-5be2-4c77-84ab-391a3715a6bc",
            "dx_settings": {
              "ALLOW_NOTEABLE_ATTRS": true,
              "COLUMN_SAMPLING_METHOD": "outer",
              "DB_LOCATION": ":memory:",
              "DEV_MODE": false,
              "DISPLAY_MAX_COLUMNS": 100,
              "DISPLAY_MAX_ROWS": 50000,
              "DISPLAY_MODE": "simple",
              "ENABLE_ASSIGNMENT": true,
              "ENABLE_DATALINK": true,
              "FLATTEN_COLUMN_VALUES": true,
              "FLATTEN_INDEX_VALUES": false,
              "GENERATE_DEX_METADATA": false,
              "HTML_TABLE_SCHEMA": false,
              "LOG_LEVEL": 30,
              "MAX_RENDER_SIZE_BYTES": 104857600,
              "MAX_STRING_LENGTH": 250,
              "NUM_PAST_SAMPLES_TRACKED": 3,
              "RANDOM_STATE": 12648430,
              "RESET_INDEX_VALUES": false,
              "ROW_SAMPLING_METHOD": "random",
              "SAMPLING_FACTOR": 0.1,
              "SAMPLING_METHOD": "random",
              "STRINGIFY_COLUMN_VALUES": true,
              "STRINGIFY_INDEX_VALUES": false
            },
            "sample_history": [],
            "sampling_time": "2023-09-14T18:29:02.064465",
            "user_variable_name": null,
            "variable_name": "unk_dataframe_062bf84c77b849e58c03c1f752cdebf6"
          }
        },
        "colab": {
          "base_uri": "https://localhost:8080/",
          "height": 256
        },
        "id": "30db30d4-c229-4e3e-a4e5-bb454031a08b",
        "outputId": "59f7bc7e-cdae-47dd-e9a2-1be376a46da7"
      },
      "execution_count": null,
      "source": [
        "import pandas as pd\n",
        "\n",
        "# Loading the cleaned data\n",
        "data_clean = pd.read_csv('data_clean.csv')\n",
        "\n",
        "# Displaying the first few rows of the cleaned data\n",
        "data_clean.head()"
      ],
      "outputs": [
        {
          "output_type": "execute_result",
          "data": {
            "text/plain": [
              "     budget  popularity   runtime  release_month  release_year   revenue  \\\n",
              "0  0.036842    0.022340  0.275148       0.090909      0.424242  12314651   \n",
              "1  0.105263    0.028025  0.334320       0.636364      0.313131  95149435   \n",
              "2  0.008684    0.218457  0.310651       0.818182      0.414141  13092000   \n",
              "3  0.003158    0.010787  0.360947       0.181818      0.393939  16000000   \n",
              "4  0.000000    0.003901  0.349112       0.090909      0.363636   3923970   \n",
              "\n",
              "   budget_to_popularity_ratio  release_decade  original_language_bn  \\\n",
              "0                    0.004929             0.4                   0.0   \n",
              "1                    0.011225             0.3                   0.0   \n",
              "2                    0.000119             0.4                   0.0   \n",
              "3                    0.000875             0.4                   0.0   \n",
              "4                    0.000000             0.3                   0.0   \n",
              "\n",
              "   original_language_cn  ...  original_language_ro  original_language_ru  \\\n",
              "0                   0.0  ...                   0.0                   0.0   \n",
              "1                   0.0  ...                   0.0                   0.0   \n",
              "2                   0.0  ...                   0.0                   0.0   \n",
              "3                   0.0  ...                   0.0                   0.0   \n",
              "4                   0.0  ...                   0.0                   0.0   \n",
              "\n",
              "   original_language_sr  original_language_sv  original_language_ta  \\\n",
              "0                   0.0                   0.0                   0.0   \n",
              "1                   0.0                   0.0                   0.0   \n",
              "2                   0.0                   0.0                   0.0   \n",
              "3                   0.0                   0.0                   0.0   \n",
              "4                   0.0                   0.0                   0.0   \n",
              "\n",
              "   original_language_te  original_language_tr  original_language_ur  \\\n",
              "0                   0.0                   0.0                   0.0   \n",
              "1                   0.0                   0.0                   0.0   \n",
              "2                   0.0                   0.0                   0.0   \n",
              "3                   0.0                   0.0                   0.0   \n",
              "4                   0.0                   0.0                   0.0   \n",
              "\n",
              "   original_language_vi  original_language_zh  \n",
              "0                   0.0                   0.0  \n",
              "1                   0.0                   0.0  \n",
              "2                   0.0                   0.0  \n",
              "3                   0.0                   0.0  \n",
              "4                   0.0                   0.0  \n",
              "\n",
              "[5 rows x 43 columns]"
            ],
            "text/html": [
              "\n",
              "  <div id=\"df-f8e4dd6f-fd6a-4346-9736-dd47c5a4a81c\" class=\"colab-df-container\">\n",
              "    <div>\n",
              "<style scoped>\n",
              "    .dataframe tbody tr th:only-of-type {\n",
              "        vertical-align: middle;\n",
              "    }\n",
              "\n",
              "    .dataframe tbody tr th {\n",
              "        vertical-align: top;\n",
              "    }\n",
              "\n",
              "    .dataframe thead th {\n",
              "        text-align: right;\n",
              "    }\n",
              "</style>\n",
              "<table border=\"1\" class=\"dataframe\">\n",
              "  <thead>\n",
              "    <tr style=\"text-align: right;\">\n",
              "      <th></th>\n",
              "      <th>budget</th>\n",
              "      <th>popularity</th>\n",
              "      <th>runtime</th>\n",
              "      <th>release_month</th>\n",
              "      <th>release_year</th>\n",
              "      <th>revenue</th>\n",
              "      <th>budget_to_popularity_ratio</th>\n",
              "      <th>release_decade</th>\n",
              "      <th>original_language_bn</th>\n",
              "      <th>original_language_cn</th>\n",
              "      <th>...</th>\n",
              "      <th>original_language_ro</th>\n",
              "      <th>original_language_ru</th>\n",
              "      <th>original_language_sr</th>\n",
              "      <th>original_language_sv</th>\n",
              "      <th>original_language_ta</th>\n",
              "      <th>original_language_te</th>\n",
              "      <th>original_language_tr</th>\n",
              "      <th>original_language_ur</th>\n",
              "      <th>original_language_vi</th>\n",
              "      <th>original_language_zh</th>\n",
              "    </tr>\n",
              "  </thead>\n",
              "  <tbody>\n",
              "    <tr>\n",
              "      <th>0</th>\n",
              "      <td>0.036842</td>\n",
              "      <td>0.022340</td>\n",
              "      <td>0.275148</td>\n",
              "      <td>0.090909</td>\n",
              "      <td>0.424242</td>\n",
              "      <td>12314651</td>\n",
              "      <td>0.004929</td>\n",
              "      <td>0.4</td>\n",
              "      <td>0.0</td>\n",
              "      <td>0.0</td>\n",
              "      <td>...</td>\n",
              "      <td>0.0</td>\n",
              "      <td>0.0</td>\n",
              "      <td>0.0</td>\n",
              "      <td>0.0</td>\n",
              "      <td>0.0</td>\n",
              "      <td>0.0</td>\n",
              "      <td>0.0</td>\n",
              "      <td>0.0</td>\n",
              "      <td>0.0</td>\n",
              "      <td>0.0</td>\n",
              "    </tr>\n",
              "    <tr>\n",
              "      <th>1</th>\n",
              "      <td>0.105263</td>\n",
              "      <td>0.028025</td>\n",
              "      <td>0.334320</td>\n",
              "      <td>0.636364</td>\n",
              "      <td>0.313131</td>\n",
              "      <td>95149435</td>\n",
              "      <td>0.011225</td>\n",
              "      <td>0.3</td>\n",
              "      <td>0.0</td>\n",
              "      <td>0.0</td>\n",
              "      <td>...</td>\n",
              "      <td>0.0</td>\n",
              "      <td>0.0</td>\n",
              "      <td>0.0</td>\n",
              "      <td>0.0</td>\n",
              "      <td>0.0</td>\n",
              "      <td>0.0</td>\n",
              "      <td>0.0</td>\n",
              "      <td>0.0</td>\n",
              "      <td>0.0</td>\n",
              "      <td>0.0</td>\n",
              "    </tr>\n",
              "    <tr>\n",
              "      <th>2</th>\n",
              "      <td>0.008684</td>\n",
              "      <td>0.218457</td>\n",
              "      <td>0.310651</td>\n",
              "      <td>0.818182</td>\n",
              "      <td>0.414141</td>\n",
              "      <td>13092000</td>\n",
              "      <td>0.000119</td>\n",
              "      <td>0.4</td>\n",
              "      <td>0.0</td>\n",
              "      <td>0.0</td>\n",
              "      <td>...</td>\n",
              "      <td>0.0</td>\n",
              "      <td>0.0</td>\n",
              "      <td>0.0</td>\n",
              "      <td>0.0</td>\n",
              "      <td>0.0</td>\n",
              "      <td>0.0</td>\n",
              "      <td>0.0</td>\n",
              "      <td>0.0</td>\n",
              "      <td>0.0</td>\n",
              "      <td>0.0</td>\n",
              "    </tr>\n",
              "    <tr>\n",
              "      <th>3</th>\n",
              "      <td>0.003158</td>\n",
              "      <td>0.010787</td>\n",
              "      <td>0.360947</td>\n",
              "      <td>0.181818</td>\n",
              "      <td>0.393939</td>\n",
              "      <td>16000000</td>\n",
              "      <td>0.000875</td>\n",
              "      <td>0.4</td>\n",
              "      <td>0.0</td>\n",
              "      <td>0.0</td>\n",
              "      <td>...</td>\n",
              "      <td>0.0</td>\n",
              "      <td>0.0</td>\n",
              "      <td>0.0</td>\n",
              "      <td>0.0</td>\n",
              "      <td>0.0</td>\n",
              "      <td>0.0</td>\n",
              "      <td>0.0</td>\n",
              "      <td>0.0</td>\n",
              "      <td>0.0</td>\n",
              "      <td>0.0</td>\n",
              "    </tr>\n",
              "    <tr>\n",
              "      <th>4</th>\n",
              "      <td>0.000000</td>\n",
              "      <td>0.003901</td>\n",
              "      <td>0.349112</td>\n",
              "      <td>0.090909</td>\n",
              "      <td>0.363636</td>\n",
              "      <td>3923970</td>\n",
              "      <td>0.000000</td>\n",
              "      <td>0.3</td>\n",
              "      <td>0.0</td>\n",
              "      <td>0.0</td>\n",
              "      <td>...</td>\n",
              "      <td>0.0</td>\n",
              "      <td>0.0</td>\n",
              "      <td>0.0</td>\n",
              "      <td>0.0</td>\n",
              "      <td>0.0</td>\n",
              "      <td>0.0</td>\n",
              "      <td>0.0</td>\n",
              "      <td>0.0</td>\n",
              "      <td>0.0</td>\n",
              "      <td>0.0</td>\n",
              "    </tr>\n",
              "  </tbody>\n",
              "</table>\n",
              "<p>5 rows × 43 columns</p>\n",
              "</div>\n",
              "    <div class=\"colab-df-buttons\">\n",
              "\n",
              "  <div class=\"colab-df-container\">\n",
              "    <button class=\"colab-df-convert\" onclick=\"convertToInteractive('df-f8e4dd6f-fd6a-4346-9736-dd47c5a4a81c')\"\n",
              "            title=\"Convert this dataframe to an interactive table.\"\n",
              "            style=\"display:none;\">\n",
              "\n",
              "  <svg xmlns=\"http://www.w3.org/2000/svg\" height=\"24px\" viewBox=\"0 -960 960 960\">\n",
              "    <path d=\"M120-120v-720h720v720H120Zm60-500h600v-160H180v160Zm220 220h160v-160H400v160Zm0 220h160v-160H400v160ZM180-400h160v-160H180v160Zm440 0h160v-160H620v160ZM180-180h160v-160H180v160Zm440 0h160v-160H620v160Z\"/>\n",
              "  </svg>\n",
              "    </button>\n",
              "\n",
              "  <style>\n",
              "    .colab-df-container {\n",
              "      display:flex;\n",
              "      gap: 12px;\n",
              "    }\n",
              "\n",
              "    .colab-df-convert {\n",
              "      background-color: #E8F0FE;\n",
              "      border: none;\n",
              "      border-radius: 50%;\n",
              "      cursor: pointer;\n",
              "      display: none;\n",
              "      fill: #1967D2;\n",
              "      height: 32px;\n",
              "      padding: 0 0 0 0;\n",
              "      width: 32px;\n",
              "    }\n",
              "\n",
              "    .colab-df-convert:hover {\n",
              "      background-color: #E2EBFA;\n",
              "      box-shadow: 0px 1px 2px rgba(60, 64, 67, 0.3), 0px 1px 3px 1px rgba(60, 64, 67, 0.15);\n",
              "      fill: #174EA6;\n",
              "    }\n",
              "\n",
              "    .colab-df-buttons div {\n",
              "      margin-bottom: 4px;\n",
              "    }\n",
              "\n",
              "    [theme=dark] .colab-df-convert {\n",
              "      background-color: #3B4455;\n",
              "      fill: #D2E3FC;\n",
              "    }\n",
              "\n",
              "    [theme=dark] .colab-df-convert:hover {\n",
              "      background-color: #434B5C;\n",
              "      box-shadow: 0px 1px 3px 1px rgba(0, 0, 0, 0.15);\n",
              "      filter: drop-shadow(0px 1px 2px rgba(0, 0, 0, 0.3));\n",
              "      fill: #FFFFFF;\n",
              "    }\n",
              "  </style>\n",
              "\n",
              "    <script>\n",
              "      const buttonEl =\n",
              "        document.querySelector('#df-f8e4dd6f-fd6a-4346-9736-dd47c5a4a81c button.colab-df-convert');\n",
              "      buttonEl.style.display =\n",
              "        google.colab.kernel.accessAllowed ? 'block' : 'none';\n",
              "\n",
              "      async function convertToInteractive(key) {\n",
              "        const element = document.querySelector('#df-f8e4dd6f-fd6a-4346-9736-dd47c5a4a81c');\n",
              "        const dataTable =\n",
              "          await google.colab.kernel.invokeFunction('convertToInteractive',\n",
              "                                                    [key], {});\n",
              "        if (!dataTable) return;\n",
              "\n",
              "        const docLinkHtml = 'Like what you see? Visit the ' +\n",
              "          '<a target=\"_blank\" href=https://colab.research.google.com/notebooks/data_table.ipynb>data table notebook</a>'\n",
              "          + ' to learn more about interactive tables.';\n",
              "        element.innerHTML = '';\n",
              "        dataTable['output_type'] = 'display_data';\n",
              "        await google.colab.output.renderOutput(dataTable, element);\n",
              "        const docLink = document.createElement('div');\n",
              "        docLink.innerHTML = docLinkHtml;\n",
              "        element.appendChild(docLink);\n",
              "      }\n",
              "    </script>\n",
              "  </div>\n",
              "\n",
              "\n",
              "<div id=\"df-e52e5660-5c85-494c-9bbe-0a4b8e58d27e\">\n",
              "  <button class=\"colab-df-quickchart\" onclick=\"quickchart('df-e52e5660-5c85-494c-9bbe-0a4b8e58d27e')\"\n",
              "            title=\"Suggest charts.\"\n",
              "            style=\"display:none;\">\n",
              "\n",
              "<svg xmlns=\"http://www.w3.org/2000/svg\" height=\"24px\"viewBox=\"0 0 24 24\"\n",
              "     width=\"24px\">\n",
              "    <g>\n",
              "        <path d=\"M19 3H5c-1.1 0-2 .9-2 2v14c0 1.1.9 2 2 2h14c1.1 0 2-.9 2-2V5c0-1.1-.9-2-2-2zM9 17H7v-7h2v7zm4 0h-2V7h2v10zm4 0h-2v-4h2v4z\"/>\n",
              "    </g>\n",
              "</svg>\n",
              "  </button>\n",
              "\n",
              "<style>\n",
              "  .colab-df-quickchart {\n",
              "      --bg-color: #E8F0FE;\n",
              "      --fill-color: #1967D2;\n",
              "      --hover-bg-color: #E2EBFA;\n",
              "      --hover-fill-color: #174EA6;\n",
              "      --disabled-fill-color: #AAA;\n",
              "      --disabled-bg-color: #DDD;\n",
              "  }\n",
              "\n",
              "  [theme=dark] .colab-df-quickchart {\n",
              "      --bg-color: #3B4455;\n",
              "      --fill-color: #D2E3FC;\n",
              "      --hover-bg-color: #434B5C;\n",
              "      --hover-fill-color: #FFFFFF;\n",
              "      --disabled-bg-color: #3B4455;\n",
              "      --disabled-fill-color: #666;\n",
              "  }\n",
              "\n",
              "  .colab-df-quickchart {\n",
              "    background-color: var(--bg-color);\n",
              "    border: none;\n",
              "    border-radius: 50%;\n",
              "    cursor: pointer;\n",
              "    display: none;\n",
              "    fill: var(--fill-color);\n",
              "    height: 32px;\n",
              "    padding: 0;\n",
              "    width: 32px;\n",
              "  }\n",
              "\n",
              "  .colab-df-quickchart:hover {\n",
              "    background-color: var(--hover-bg-color);\n",
              "    box-shadow: 0 1px 2px rgba(60, 64, 67, 0.3), 0 1px 3px 1px rgba(60, 64, 67, 0.15);\n",
              "    fill: var(--button-hover-fill-color);\n",
              "  }\n",
              "\n",
              "  .colab-df-quickchart-complete:disabled,\n",
              "  .colab-df-quickchart-complete:disabled:hover {\n",
              "    background-color: var(--disabled-bg-color);\n",
              "    fill: var(--disabled-fill-color);\n",
              "    box-shadow: none;\n",
              "  }\n",
              "\n",
              "  .colab-df-spinner {\n",
              "    border: 2px solid var(--fill-color);\n",
              "    border-color: transparent;\n",
              "    border-bottom-color: var(--fill-color);\n",
              "    animation:\n",
              "      spin 1s steps(1) infinite;\n",
              "  }\n",
              "\n",
              "  @keyframes spin {\n",
              "    0% {\n",
              "      border-color: transparent;\n",
              "      border-bottom-color: var(--fill-color);\n",
              "      border-left-color: var(--fill-color);\n",
              "    }\n",
              "    20% {\n",
              "      border-color: transparent;\n",
              "      border-left-color: var(--fill-color);\n",
              "      border-top-color: var(--fill-color);\n",
              "    }\n",
              "    30% {\n",
              "      border-color: transparent;\n",
              "      border-left-color: var(--fill-color);\n",
              "      border-top-color: var(--fill-color);\n",
              "      border-right-color: var(--fill-color);\n",
              "    }\n",
              "    40% {\n",
              "      border-color: transparent;\n",
              "      border-right-color: var(--fill-color);\n",
              "      border-top-color: var(--fill-color);\n",
              "    }\n",
              "    60% {\n",
              "      border-color: transparent;\n",
              "      border-right-color: var(--fill-color);\n",
              "    }\n",
              "    80% {\n",
              "      border-color: transparent;\n",
              "      border-right-color: var(--fill-color);\n",
              "      border-bottom-color: var(--fill-color);\n",
              "    }\n",
              "    90% {\n",
              "      border-color: transparent;\n",
              "      border-bottom-color: var(--fill-color);\n",
              "    }\n",
              "  }\n",
              "</style>\n",
              "\n",
              "  <script>\n",
              "    async function quickchart(key) {\n",
              "      const quickchartButtonEl =\n",
              "        document.querySelector('#' + key + ' button');\n",
              "      quickchartButtonEl.disabled = true;  // To prevent multiple clicks.\n",
              "      quickchartButtonEl.classList.add('colab-df-spinner');\n",
              "      try {\n",
              "        const charts = await google.colab.kernel.invokeFunction(\n",
              "            'suggestCharts', [key], {});\n",
              "      } catch (error) {\n",
              "        console.error('Error during call to suggestCharts:', error);\n",
              "      }\n",
              "      quickchartButtonEl.classList.remove('colab-df-spinner');\n",
              "      quickchartButtonEl.classList.add('colab-df-quickchart-complete');\n",
              "    }\n",
              "    (() => {\n",
              "      let quickchartButtonEl =\n",
              "        document.querySelector('#df-e52e5660-5c85-494c-9bbe-0a4b8e58d27e button');\n",
              "      quickchartButtonEl.style.display =\n",
              "        google.colab.kernel.accessAllowed ? 'block' : 'none';\n",
              "    })();\n",
              "  </script>\n",
              "</div>\n",
              "    </div>\n",
              "  </div>\n"
            ]
          },
          "metadata": {},
          "execution_count": 2
        }
      ]
    },
    {
      "id": "b1074fbf-250d-4e5a-9a31-ee7e31c622ff",
      "cell_type": "markdown",
      "source": [
        "## Step 2: Data Preprocessing for Regression Models\n",
        "\n",
        "In this step, we'll prepare our data for regression modeling. This involves:\n",
        "\n",
        "1. Splitting the data into features (`X`) and target (`Y`).\n",
        "2. Splitting the data into training, validation, and test sets.\n",
        "3. Normalizing the target column (`revenue`).\n",
        "\n",
        "Let's start by splitting the data into features and target."
      ],
      "metadata": {
        "noteable": {
          "cell_type": "markdown"
        },
        "id": "b1074fbf-250d-4e5a-9a31-ee7e31c622ff"
      }
    },
    {
      "id": "b49feac3-1d77-4c95-aa2f-8e0d2daf5aa3",
      "cell_type": "code",
      "metadata": {
        "noteable": {
          "cell_type": "code",
          "output_collection_id": "5e047571-e9a2-41b2-a006-3f05cd6b93bb"
        },
        "ExecuteTime": {
          "end_time": "2023-09-14T18:29:02.412026+00:00",
          "start_time": "2023-09-14T18:29:02.239062+00:00"
        },
        "colab": {
          "base_uri": "https://localhost:8080/"
        },
        "id": "b49feac3-1d77-4c95-aa2f-8e0d2daf5aa3",
        "outputId": "c5a3e8ea-1075-4f4d-a76f-5e33d5ad102e"
      },
      "execution_count": null,
      "source": [
        "# Splitting the data into features (X) and target (Y)\n",
        "X = data_clean.drop('revenue', axis=1)\n",
        "Y = data_clean['revenue']\n",
        "\n",
        "# Displaying the first few rows of features and target\n",
        "X.head(), Y.head()"
      ],
      "outputs": [
        {
          "output_type": "execute_result",
          "data": {
            "text/plain": [
              "(     budget  popularity   runtime  release_month  release_year  \\\n",
              " 0  0.036842    0.022340  0.275148       0.090909      0.424242   \n",
              " 1  0.105263    0.028025  0.334320       0.636364      0.313131   \n",
              " 2  0.008684    0.218457  0.310651       0.818182      0.414141   \n",
              " 3  0.003158    0.010787  0.360947       0.181818      0.393939   \n",
              " 4  0.000000    0.003901  0.349112       0.090909      0.363636   \n",
              " \n",
              "    budget_to_popularity_ratio  release_decade  original_language_bn  \\\n",
              " 0                    0.004929             0.4                   0.0   \n",
              " 1                    0.011225             0.3                   0.0   \n",
              " 2                    0.000119             0.4                   0.0   \n",
              " 3                    0.000875             0.4                   0.0   \n",
              " 4                    0.000000             0.3                   0.0   \n",
              " \n",
              "    original_language_cn  original_language_cs  ...  original_language_ro  \\\n",
              " 0                   0.0                   0.0  ...                   0.0   \n",
              " 1                   0.0                   0.0  ...                   0.0   \n",
              " 2                   0.0                   0.0  ...                   0.0   \n",
              " 3                   0.0                   0.0  ...                   0.0   \n",
              " 4                   0.0                   0.0  ...                   0.0   \n",
              " \n",
              "    original_language_ru  original_language_sr  original_language_sv  \\\n",
              " 0                   0.0                   0.0                   0.0   \n",
              " 1                   0.0                   0.0                   0.0   \n",
              " 2                   0.0                   0.0                   0.0   \n",
              " 3                   0.0                   0.0                   0.0   \n",
              " 4                   0.0                   0.0                   0.0   \n",
              " \n",
              "    original_language_ta  original_language_te  original_language_tr  \\\n",
              " 0                   0.0                   0.0                   0.0   \n",
              " 1                   0.0                   0.0                   0.0   \n",
              " 2                   0.0                   0.0                   0.0   \n",
              " 3                   0.0                   0.0                   0.0   \n",
              " 4                   0.0                   0.0                   0.0   \n",
              " \n",
              "    original_language_ur  original_language_vi  original_language_zh  \n",
              " 0                   0.0                   0.0                   0.0  \n",
              " 1                   0.0                   0.0                   0.0  \n",
              " 2                   0.0                   0.0                   0.0  \n",
              " 3                   0.0                   0.0                   0.0  \n",
              " 4                   0.0                   0.0                   0.0  \n",
              " \n",
              " [5 rows x 42 columns],\n",
              " 0    12314651\n",
              " 1    95149435\n",
              " 2    13092000\n",
              " 3    16000000\n",
              " 4     3923970\n",
              " Name: revenue, dtype: int64)"
            ]
          },
          "metadata": {},
          "execution_count": 3
        }
      ]
    },
    {
      "id": "30a980a8-3811-4e01-af6a-db7e8e2d3bc8",
      "cell_type": "markdown",
      "source": [
        "### Splitting Data into Training, Validation, and Test Sets\n",
        "\n",
        "To evaluate the performance of our regression models, we need to split our dataset into training, validation, and test sets. The training set will be used to train the model, the validation set will be used to tune hyperparameters, and the test set will be used to evaluate the final performance of the model.\n",
        "\n",
        "We'll use 70% of the data for training, 15% for validation, and 15% for testing."
      ],
      "metadata": {
        "noteable": {
          "cell_type": "markdown"
        },
        "id": "30a980a8-3811-4e01-af6a-db7e8e2d3bc8"
      }
    },
    {
      "id": "7cd2dcb9-06c7-4b66-b91a-28849f61f905",
      "cell_type": "code",
      "metadata": {
        "noteable": {
          "cell_type": "code",
          "output_collection_id": "a5d3e539-68bd-4027-91fc-41bd2f4dd9d1"
        },
        "ExecuteTime": {
          "end_time": "2023-09-14T18:29:02.868683+00:00",
          "start_time": "2023-09-14T18:29:02.416972+00:00"
        },
        "colab": {
          "base_uri": "https://localhost:8080/"
        },
        "id": "7cd2dcb9-06c7-4b66-b91a-28849f61f905",
        "outputId": "31a7762a-a665-4dfc-8c27-1e72a0912a63"
      },
      "execution_count": null,
      "source": [
        "from sklearn.model_selection import train_test_split\n",
        "\n",
        "# Splitting the data into training, validation, and test sets\n",
        "X_temp, X_test, Y_temp, Y_test = train_test_split(X, Y, test_size=0.15, random_state=42)\n",
        "X_train, X_val, Y_train, Y_val = train_test_split(X_temp, Y_temp, test_size=0.1765, random_state=42)\n",
        "\n",
        "# Displaying the shape of the training, validation, and test sets\n",
        "X_train.shape, X_val.shape, X_test.shape"
      ],
      "outputs": [
        {
          "output_type": "execute_result",
          "data": {
            "text/plain": [
              "((2099, 42), (451, 42), (450, 42))"
            ]
          },
          "metadata": {},
          "execution_count": 4
        }
      ]
    },
    {
      "id": "f6ac285f-b4e6-4812-b1dc-d2039a508a75",
      "cell_type": "markdown",
      "source": [
        "### Normalizing the Target Column (`revenue`)\n",
        "\n",
        "Normalization is the process of scaling the data to have a mean of 0 and a standard deviation of 1. This can help improve the performance of regression models, especially when the target variable has a wide range of values. We'll use the `StandardScaler` from scikit-learn to normalize the `revenue` column."
      ],
      "metadata": {
        "noteable": {
          "cell_type": "markdown"
        },
        "id": "f6ac285f-b4e6-4812-b1dc-d2039a508a75"
      }
    },
    {
      "id": "7d0dfa1d-d60d-4f2b-820d-11d9f47e521b",
      "cell_type": "code",
      "metadata": {
        "noteable": {
          "cell_type": "code",
          "output_collection_id": "91b9bda7-2e9d-48c6-b50a-b5710131ecf1"
        },
        "ExecuteTime": {
          "end_time": "2023-09-14T18:29:03.037675+00:00",
          "start_time": "2023-09-14T18:29:02.874082+00:00"
        },
        "colab": {
          "base_uri": "https://localhost:8080/"
        },
        "id": "7d0dfa1d-d60d-4f2b-820d-11d9f47e521b",
        "outputId": "c2c38977-24f4-42b1-ff16-acfbde2229d0"
      },
      "execution_count": null,
      "source": [
        "from sklearn.preprocessing import StandardScaler\n",
        "\n",
        "# Initializing the scaler\n",
        "scaler = StandardScaler()\n",
        "\n",
        "# Fitting the scaler on the training data and transforming\n",
        "Y_train_scaled = scaler.fit_transform(Y_train.values.reshape(-1, 1)).flatten()\n",
        "Y_val_scaled = scaler.transform(Y_val.values.reshape(-1, 1)).flatten()\n",
        "Y_test_scaled = scaler.transform(Y_test.values.reshape(-1, 1)).flatten()\n",
        "\n",
        "# Displaying the first few values of the scaled target\n",
        "Y_train_scaled[:5], Y_val_scaled[:5], Y_test_scaled[:5]"
      ],
      "outputs": [
        {
          "output_type": "execute_result",
          "data": {
            "text/plain": [
              "(array([-0.42759664, -0.47078142, -0.46658115, -0.44677402, -0.46249307]),\n",
              " array([ 1.14650077, -0.4642461 , -0.05227071, -0.47070568, -0.34973224]),\n",
              " array([-0.40403496, -0.47091015, -0.4706665 , -0.39847081, -0.40647239]))"
            ]
          },
          "metadata": {},
          "execution_count": 5
        }
      ]
    },
    {
      "id": "20c71f8a-c89d-44a0-96d5-4e30e2a143da",
      "cell_type": "markdown",
      "source": [
        "## Step 3: Implementing CatBoost\n",
        "\n",
        "CatBoost is a gradient boosting library that uses decision trees. It's specifically designed to handle categorical features without any preprocessing, which is why it's named \"CatBoost\" (\"Cat\" stands for categorical). However, in our case, we've already preprocessed our categorical features, so we'll be using CatBoost mainly for its robustness and performance.\n",
        "\n",
        "In this step, we'll:\n",
        "\n",
        "1. Provide a brief overview of how CatBoost works.\n",
        "2. Train the CatBoost model on our training data.\n",
        "3. Evaluate the model using various regression metrics and visualization techniques.\n",
        "4. Tune the model's hyperparameters for optimal performance.\n",
        "5. Evaluate the tuned model and make predictions on the test dataset.\n",
        "6. Conclude our findings.\n",
        "\n",
        "Let's start with a brief overview of CatBoost."
      ],
      "metadata": {
        "noteable": {
          "cell_type": "markdown"
        },
        "id": "20c71f8a-c89d-44a0-96d5-4e30e2a143da"
      }
    },
    {
      "id": "3348a37e-ca2d-4378-ba84-939bc6ededd8",
      "cell_type": "markdown",
      "source": [
        "### Overview of CatBoost\n",
        "\n",
        "CatBoost (Categorical Boosting) is a gradient boosting algorithm developed by Yandex, a Russian multinational IT company. It's designed to efficiently handle categorical features without the need for manual encoding. Here are some key features and advantages of CatBoost:\n",
        "\n",
        "1. **Handling Categorical Features**: CatBoost can process categorical features directly, without the need for manual one-hot or label encoding.\n",
        "2. **Robustness**: It's less sensitive to hyperparameter settings, making it easier to achieve good performance without extensive tuning.\n",
        "3. **Regularization**: CatBoost includes built-in support for L2 regularization, reducing the risk of overfitting.\n",
        "4. **Visualization**: The CatBoost library provides built-in tools for visualizing feature importances and training progress.\n",
        "5. **Speed**: CatBoost is optimized for parallelism, making it faster than many other gradient boosting libraries.\n",
        "\n",
        "The core principle behind CatBoost, like other gradient boosting algorithms, is to iteratively add decision trees to a model, where each new tree corrects the errors of its predecessor. The unique aspect of CatBoost is its treatment of categorical features and its efficient implementation.\n",
        "\n",
        "Now, let's proceed with training the CatBoost model on our data."
      ],
      "metadata": {
        "noteable": {
          "cell_type": "markdown"
        },
        "id": "3348a37e-ca2d-4378-ba84-939bc6ededd8"
      }
    },
    {
      "id": "b2d222dd-15e8-46bc-afee-77a120fdb17a",
      "cell_type": "markdown",
      "source": [
        "### Training the CatBoost Model\n",
        "\n",
        "We'll start by training a basic CatBoost model using default parameters. After training, we'll evaluate its performance on the validation set. This initial evaluation will give us a baseline to compare against when we later tune the model's hyperparameters."
      ],
      "metadata": {
        "noteable": {
          "cell_type": "markdown"
        },
        "id": "b2d222dd-15e8-46bc-afee-77a120fdb17a"
      }
    },
    {
      "id": "7844fb9e-634e-445f-b8f1-be146ff9446a",
      "cell_type": "code",
      "metadata": {
        "noteable": {
          "cell_type": "code",
          "output_collection_id": "15bbdbfa-1523-4550-a515-9c1c15fb89c4"
        },
        "ExecuteTime": {
          "end_time": "2023-09-14T18:29:04.274995+00:00",
          "start_time": "2023-09-14T18:29:03.043874+00:00"
        },
        "colab": {
          "base_uri": "https://localhost:8080/"
        },
        "id": "7844fb9e-634e-445f-b8f1-be146ff9446a",
        "outputId": "3088f804-abeb-4f9c-f1dc-c042d23c4e71"
      },
      "execution_count": null,
      "source": [
        "from catboost import CatBoostRegressor\n",
        "\n",
        "# Initializing the CatBoost regressor\n",
        "catboost_model = CatBoostRegressor(random_seed=42, verbose=0)\n",
        "\n",
        "# Training the model\n",
        "catboost_model.fit(X_train, Y_train_scaled)"
      ],
      "outputs": [
        {
          "output_type": "execute_result",
          "data": {
            "text/plain": [
              "<catboost.core.CatBoostRegressor at 0x7c23157b0cd0>"
            ]
          },
          "metadata": {},
          "execution_count": 6
        }
      ]
    },
    {
      "id": "e0749697-4d04-4c28-87ef-79486f48243b",
      "cell_type": "markdown",
      "source": [
        "### Evaluating the CatBoost Model\n",
        "\n",
        "To evaluate the performance of our CatBoost model, we'll use the following regression metrics:\n",
        "\n",
        "1. **Mean Absolute Error (MAE)**: Represents the average of the absolute differences between the predicted and actual values. It provides a straightforward way to measure the prediction error.\n",
        "2. **Mean Squared Error (MSE)**: Represents the average of the squared differences between the predicted and actual values. It gives more weight to larger errors.\n",
        "3. **Root Mean Squared Error (RMSE)**: It's the square root of MSE and provides the error in the same units as the target variable.\n",
        "4. **R-squared (R2)**: Represents the proportion of the variance in the dependent variable that is predictable from the independent variables. It ranges from 0 to 1, with 1 indicating perfect predictions.\n",
        "\n",
        "Additionally, we'll visualize the actual vs. predicted values to get a visual sense of how well our model is performing."
      ],
      "metadata": {
        "noteable": {
          "cell_type": "markdown"
        },
        "id": "e0749697-4d04-4c28-87ef-79486f48243b"
      }
    },
    {
      "id": "55fc7265-38bf-444b-b65d-1798f0d364b5",
      "cell_type": "code",
      "metadata": {
        "noteable": {
          "cell_type": "code",
          "output_collection_id": "532f6dc6-e6a7-4167-a353-45c465d8e426"
        },
        "ExecuteTime": {
          "end_time": "2023-09-14T18:29:04.624927+00:00",
          "start_time": "2023-09-14T18:29:04.279425+00:00"
        },
        "colab": {
          "base_uri": "https://localhost:8080/"
        },
        "id": "55fc7265-38bf-444b-b65d-1798f0d364b5",
        "outputId": "ba04dfcc-ab73-4e5e-b38d-c0170c059a88"
      },
      "execution_count": null,
      "source": [
        "from sklearn.metrics import mean_absolute_error, mean_squared_error, r2_score\n",
        "import numpy as np\n",
        "import matplotlib.pyplot as plt\n",
        "\n",
        "# Predicting on the validation set\n",
        "Y_val_pred_scaled = catboost_model.predict(X_val)\n",
        "\n",
        "\n",
        "\n",
        "# Calculating the evaluation metrics\n",
        "mae = mean_absolute_error(Y_val_scaled, Y_val_pred_scaled)\n",
        "mse = mean_squared_error(Y_val_scaled, Y_val_pred_scaled)\n",
        "rmse = np.sqrt(mse)\n",
        "r2 = r2_score(Y_val_scaled, Y_val_pred_scaled)\n",
        "\n",
        "# Displaying the metrics\n",
        "mae, mse, rmse, r2"
      ],
      "outputs": [
        {
          "output_type": "execute_result",
          "data": {
            "text/plain": [
              "(0.28424805841694706,\n",
              " 0.3263294151917484,\n",
              " 0.5712524968800998,\n",
              " 0.6392587540928636)"
            ]
          },
          "metadata": {},
          "execution_count": 7
        }
      ]
    },
    {
      "id": "ebd56299-9fa2-475f-a3a3-a8b9a88cbc28",
      "cell_type": "code",
      "metadata": {
        "noteable": {
          "cell_type": "code",
          "output_collection_id": "edb329d7-6a9c-4f79-a8b6-ac866665fc29"
        },
        "ExecuteTime": {
          "end_time": "2023-09-14T18:29:05.120934+00:00",
          "start_time": "2023-09-14T18:29:04.629940+00:00"
        },
        "colab": {
          "base_uri": "https://localhost:8080/",
          "height": 564
        },
        "id": "ebd56299-9fa2-475f-a3a3-a8b9a88cbc28",
        "outputId": "8f364578-e1ea-4956-af0f-5eb4bd4e7b4d"
      },
      "execution_count": null,
      "source": [
        "# Visualizing actual vs predicted values\n",
        "plt.figure(figsize=(12, 6))\n",
        "plt.scatter(Y_val_scaled, Y_val_pred_scaled, alpha=0.5)\n",
        "plt.plot([min(Y_val_scaled), max(Y_val_scaled)], [min(Y_val_scaled), max(Y_val_scaled)], color='red') # Diagonal line\n",
        "plt.title('Actual vs Predicted Revenue')\n",
        "plt.xlabel('Actual Revenue')\n",
        "plt.ylabel('Predicted Revenue')\n",
        "plt.grid(True)\n",
        "plt.show()"
      ],
      "outputs": [
        {
          "output_type": "display_data",
          "data": {
            "text/plain": [
              "<Figure size 1200x600 with 1 Axes>"
            ],
            "image/png": "[encoded data removed]"
          },
          "metadata": {}
        }
      ]
    },
    {
      "id": "226788b4-3cec-4ff4-80fa-79c01ac3d1a1",
      "cell_type": "markdown",
      "source": [
        "### Hyperparameter Tuning for CatBoost\n",
        "\n",
        "Hyperparameter tuning is the process of systematically searching for the best combination of hyperparameters that optimize a model's performance. For CatBoost, some of the important hyperparameters include:\n",
        "\n",
        "- **learning_rate**: The step size used in each boosting step. A smaller value can lead to a more accurate model but may require more iterations.\n",
        "- **depth**: The depth of the trees in the model. A larger depth can capture more complex relationships but may risk overfitting.\n",
        "- **iterations**: The number of boosting rounds or trees to build. More iterations can lead to a better model but may increase training time.\n",
        "- **l2_leaf_reg**: L2 regularization term on weights. Used to avoid overfitting.\n",
        "\n",
        "We'll use a grid search approach to find the best combination of these hyperparameters. Let's begin the tuning process."
      ],
      "metadata": {
        "noteable": {
          "cell_type": "markdown"
        },
        "id": "226788b4-3cec-4ff4-80fa-79c01ac3d1a1"
      }
    },
    {
      "id": "96310b43-5303-44fa-a309-17cda0940c5e",
      "cell_type": "code",
      "metadata": {
        "jupyter": {
          "outputs_hidden": false,
          "source_hidden": false
        },
        "noteable": {
          "cell_type": "code",
          "output_collection_id": "3e5d6378-ab5a-4c56-8f06-94ef7a93f32f"
        },
        "ExecuteTime": {
          "end_time": "2023-09-14T18:30:00.415929+00:00",
          "start_time": "2023-09-14T18:29:43.399507+00:00"
        },
        "colab": {
          "base_uri": "https://localhost:8080/",
          "height": 136
        },
        "id": "96310b43-5303-44fa-a309-17cda0940c5e",
        "outputId": "49a43597-efb6-4643-d5ac-489b91ea7e60"
      },
      "execution_count": null,
      "source": [
        "from sklearn.model_selection import GridSearchCV\n",
        "from catboost import Pool\n",
        "\n",
        "# Defining the hyperparameters grid\n",
        "param_grid = {\n",
        "    'learning_rate': [0.03, 0.1],\n",
        "    'depth': [6,8, 10],\n",
        "    'iterations': [500, 1000],\n",
        "    'l2_leaf_reg': [1, 3, 5]\n",
        "}\n",
        "\n",
        "# Initializing the CatBoost regressor\n",
        "catboost_regressor = CatBoostRegressor(random_seed=42, verbose=0)\n",
        "\n",
        "# Setting up GridSearchCV\n",
        "grid_search = GridSearchCV(catboost_regressor, param_grid, cv=3, scoring='neg_mean_squared_error', n_jobs=-1, verbose=1)\n",
        "\n",
        "# Training the models\n",
        "grid_search.fit(X_train, Y_train_scaled)"
      ],
      "outputs": [
        {
          "output_type": "stream",
          "name": "stdout",
          "text": [
            "Fitting 3 folds for each of 36 candidates, totalling 108 fits\n"
          ]
        },
        {
          "output_type": "execute_result",
          "data": {
            "text/plain": [
              "GridSearchCV(cv=3,\n",
              "             estimator=<catboost.core.CatBoostRegressor object at 0x7c2303e4d6f0>,\n",
              "             n_jobs=-1,\n",
              "             param_grid={'depth': [6, 8, 10], 'iterations': [500, 1000],\n",
              "                         'l2_leaf_reg': [1, 3, 5],\n",
              "                         'learning_rate': [0.03, 0.1]},\n",
              "             scoring='neg_mean_squared_error', verbose=1)"
            ],
            "text/html": [
              "<style>#sk-container-id-1 {color: black;background-color: white;}#sk-container-id-1 pre{padding: 0;}#sk-container-id-1 div.sk-toggleable {background-color: white;}#sk-container-id-1 label.sk-toggleable__label {cursor: pointer;display: block;width: 100%;margin-bottom: 0;padding: 0.3em;box-sizing: border-box;text-align: center;}#sk-container-id-1 label.sk-toggleable__label-arrow:before {content: \"▸\";float: left;margin-right: 0.25em;color: #696969;}#sk-container-id-1 label.sk-toggleable__label-arrow:hover:before {color: black;}#sk-container-id-1 div.sk-estimator:hover label.sk-toggleable__label-arrow:before {color: black;}#sk-container-id-1 div.sk-toggleable__content {max-height: 0;max-width: 0;overflow: hidden;text-align: left;background-color: #f0f8ff;}#sk-container-id-1 div.sk-toggleable__content pre {margin: 0.2em;color: black;border-radius: 0.25em;background-color: #f0f8ff;}#sk-container-id-1 input.sk-toggleable__control:checked~div.sk-toggleable__content {max-height: 200px;max-width: 100%;overflow: auto;}#sk-container-id-1 input.sk-toggleable__control:checked~label.sk-toggleable__label-arrow:before {content: \"▾\";}#sk-container-id-1 div.sk-estimator input.sk-toggleable__control:checked~label.sk-toggleable__label {background-color: #d4ebff;}#sk-container-id-1 div.sk-label input.sk-toggleable__control:checked~label.sk-toggleable__label {background-color: #d4ebff;}#sk-container-id-1 input.sk-hidden--visually {border: 0;clip: rect(1px 1px 1px 1px);clip: rect(1px, 1px, 1px, 1px);height: 1px;margin: -1px;overflow: hidden;padding: 0;position: absolute;width: 1px;}#sk-container-id-1 div.sk-estimator {font-family: monospace;background-color: #f0f8ff;border: 1px dotted black;border-radius: 0.25em;box-sizing: border-box;margin-bottom: 0.5em;}#sk-container-id-1 div.sk-estimator:hover {background-color: #d4ebff;}#sk-container-id-1 div.sk-parallel-item::after {content: \"\";width: 100%;border-bottom: 1px solid gray;flex-grow: 1;}#sk-container-id-1 div.sk-label:hover label.sk-toggleable__label {background-color: #d4ebff;}#sk-container-id-1 div.sk-serial::before {content: \"\";position: absolute;border-left: 1px solid gray;box-sizing: border-box;top: 0;bottom: 0;left: 50%;z-index: 0;}#sk-container-id-1 div.sk-serial {display: flex;flex-direction: column;align-items: center;background-color: white;padding-right: 0.2em;padding-left: 0.2em;position: relative;}#sk-container-id-1 div.sk-item {position: relative;z-index: 1;}#sk-container-id-1 div.sk-parallel {display: flex;align-items: stretch;justify-content: center;background-color: white;position: relative;}#sk-container-id-1 div.sk-item::before, #sk-container-id-1 div.sk-parallel-item::before {content: \"\";position: absolute;border-left: 1px solid gray;box-sizing: border-box;top: 0;bottom: 0;left: 50%;z-index: -1;}#sk-container-id-1 div.sk-parallel-item {display: flex;flex-direction: column;z-index: 1;position: relative;background-color: white;}#sk-container-id-1 div.sk-parallel-item:first-child::after {align-self: flex-end;width: 50%;}#sk-container-id-1 div.sk-parallel-item:last-child::after {align-self: flex-start;width: 50%;}#sk-container-id-1 div.sk-parallel-item:only-child::after {width: 0;}#sk-container-id-1 div.sk-dashed-wrapped {border: 1px dashed gray;margin: 0 0.4em 0.5em 0.4em;box-sizing: border-box;padding-bottom: 0.4em;background-color: white;}#sk-container-id-1 div.sk-label label {font-family: monospace;font-weight: bold;display: inline-block;line-height: 1.2em;}#sk-container-id-1 div.sk-label-container {text-align: center;}#sk-container-id-1 div.sk-container {/* jupyter's `normalize.less` sets `[hidden] { display: none; }` but bootstrap.min.css set `[hidden] { display: none !important; }` so we also need the `!important` here to be able to override the default hidden behavior on the sphinx rendered scikit-learn.org. See: https://github.com/scikit-learn/scikit-learn/issues/21755 */display: inline-block !important;position: relative;}#sk-container-id-1 div.sk-text-repr-fallback {display: none;}</style><div id=\"sk-container-id-1\" class=\"sk-top-container\"><div class=\"sk-text-repr-fallback\"><pre>GridSearchCV(cv=3,\n",
              "             estimator=&lt;catboost.core.CatBoostRegressor object at 0x7c2303e4d6f0&gt;,\n",
              "             n_jobs=-1,\n",
              "             param_grid={&#x27;depth&#x27;: [6, 8, 10], &#x27;iterations&#x27;: [500, 1000],\n",
              "                         &#x27;l2_leaf_reg&#x27;: [1, 3, 5],\n",
              "                         &#x27;learning_rate&#x27;: [0.03, 0.1]},\n",
              "             scoring=&#x27;neg_mean_squared_error&#x27;, verbose=1)</pre><b>In a Jupyter environment, please rerun this cell to show the HTML representation or trust the notebook. <br />On GitHub, the HTML representation is unable to render, please try loading this page with nbviewer.org.</b></div><div class=\"sk-container\" hidden><div class=\"sk-item sk-dashed-wrapped\"><div class=\"sk-label-container\"><div class=\"sk-label sk-toggleable\"><input class=\"sk-toggleable__control sk-hidden--visually\" id=\"sk-estimator-id-1\" type=\"checkbox\" ><label for=\"sk-estimator-id-1\" class=\"sk-toggleable__label sk-toggleable__label-arrow\">GridSearchCV</label><div class=\"sk-toggleable__content\"><pre>GridSearchCV(cv=3,\n",
              "             estimator=&lt;catboost.core.CatBoostRegressor object at 0x7c2303e4d6f0&gt;,\n",
              "             n_jobs=-1,\n",
              "             param_grid={&#x27;depth&#x27;: [6, 8, 10], &#x27;iterations&#x27;: [500, 1000],\n",
              "                         &#x27;l2_leaf_reg&#x27;: [1, 3, 5],\n",
              "                         &#x27;learning_rate&#x27;: [0.03, 0.1]},\n",
              "             scoring=&#x27;neg_mean_squared_error&#x27;, verbose=1)</pre></div></div></div><div class=\"sk-parallel\"><div class=\"sk-parallel-item\"><div class=\"sk-item\"><div class=\"sk-label-container\"><div class=\"sk-label sk-toggleable\"><input class=\"sk-toggleable__control sk-hidden--visually\" id=\"sk-estimator-id-2\" type=\"checkbox\" ><label for=\"sk-estimator-id-2\" class=\"sk-toggleable__label sk-toggleable__label-arrow\">estimator: CatBoostRegressor</label><div class=\"sk-toggleable__content\"><pre>&lt;catboost.core.CatBoostRegressor object at 0x7c2303e4d6f0&gt;</pre></div></div></div><div class=\"sk-serial\"><div class=\"sk-item\"><div class=\"sk-estimator sk-toggleable\"><input class=\"sk-toggleable__control sk-hidden--visually\" id=\"sk-estimator-id-3\" type=\"checkbox\" ><label for=\"sk-estimator-id-3\" class=\"sk-toggleable__label sk-toggleable__label-arrow\">CatBoostRegressor</label><div class=\"sk-toggleable__content\"><pre>&lt;catboost.core.CatBoostRegressor object at 0x7c2303e4d6f0&gt;</pre></div></div></div></div></div></div></div></div></div></div>"
            ]
          },
          "metadata": {},
          "execution_count": 9
        }
      ]
    },
    {
      "id": "7ed81c56-d4b8-468c-8799-d3795c197f1f",
      "cell_type": "markdown",
      "source": [
        "### Evaluating the Best Model from Hyperparameter Tuning\n",
        "\n",
        "First, let's identify the best hyperparameters obtained from the grid search."
      ],
      "metadata": {
        "noteable": {
          "cell_type": "markdown"
        },
        "id": "7ed81c56-d4b8-468c-8799-d3795c197f1f"
      }
    },
    {
      "id": "c5403261-ef6a-45a9-9e8d-16aaeb0d7412",
      "cell_type": "code",
      "metadata": {
        "noteable": {
          "cell_type": "code",
          "output_collection_id": "79cf68b5-ddb1-4eac-89a0-3af16bbbbc4e"
        },
        "ExecuteTime": {
          "end_time": "2023-09-14T18:30:04.597731+00:00",
          "start_time": "2023-09-14T18:30:04.441458+00:00"
        },
        "colab": {
          "base_uri": "https://localhost:8080/"
        },
        "id": "c5403261-ef6a-45a9-9e8d-16aaeb0d7412",
        "outputId": "05d37657-214d-4741-b38c-a26f6894b3a1"
      },
      "execution_count": null,
      "source": [
        "# Best hyperparameters\n",
        "best_params = grid_search.best_params_\n",
        "best_params"
      ],
      "outputs": [
        {
          "output_type": "execute_result",
          "data": {
            "text/plain": [
              "{'depth': 6, 'iterations': 500, 'l2_leaf_reg': 1, 'learning_rate': 0.03}"
            ]
          },
          "metadata": {},
          "execution_count": 13
        }
      ]
    },
    {
      "id": "875f8d0b-7e6b-4859-a002-621938173c25",
      "cell_type": "code",
      "metadata": {
        "noteable": {
          "cell_type": "code",
          "output_collection_id": "e112d743-ea9d-4e32-b2fa-728d4c79a55f"
        },
        "ExecuteTime": {
          "end_time": "2023-09-14T18:30:07.509975+00:00",
          "start_time": "2023-09-14T18:30:07.351462+00:00"
        },
        "colab": {
          "base_uri": "https://localhost:8080/"
        },
        "id": "875f8d0b-7e6b-4859-a002-621938173c25",
        "outputId": "be1f77a5-58b0-4467-fe3b-7c474ecc57bf"
      },
      "execution_count": null,
      "source": [
        "# Predicting on the va  `lidation set using the best model\n",
        "Y_val_pred_scaled_best = grid_search.best_estimator_.predict(X_val)\n",
        "\n",
        "# Calculating the evaluation metrics for the best model\n",
        "mae_best = mean_absolute_error(Y_val_scaled, Y_val_pred_scaled_best)\n",
        "mse_best = mean_squared_error(Y_val_scaled, Y_val_pred_scaled_best)\n",
        "rmse_best = np.sqrt(mse_best)\n",
        "r2_best = r2_score(Y_val_scaled, Y_val_pred_scaled_best)\n",
        "\n",
        "# Displaying the metrics for the best model\n",
        "mae_best, mse_best, rmse_best, r2_best"
      ],
      "outputs": [
        {
          "output_type": "execute_result",
          "data": {
            "text/plain": [
              "(0.2767664027391721, 0.31025422167091987, 0.5570046872970817, 0.65702909617341)"
            ]
          },
          "metadata": {},
          "execution_count": 14
        }
      ]
    },
    {
      "id": "3c1e6e5d-8862-405e-87bb-b854d6e0bf93",
      "cell_type": "code",
      "metadata": {
        "noteable": {
          "cell_type": "code",
          "output_collection_id": "f1d49d4d-d221-466a-a29e-346a338e71ac"
        },
        "ExecuteTime": {
          "end_time": "2023-09-14T18:30:09.047950+00:00",
          "start_time": "2023-09-14T18:30:08.694164+00:00"
        },
        "colab": {
          "base_uri": "https://localhost:8080/",
          "height": 564
        },
        "id": "3c1e6e5d-8862-405e-87bb-b854d6e0bf93",
        "outputId": "1638e2a1-c048-4a99-eac2-dad21bc999d7"
      },
      "execution_count": null,
      "source": [
        "# Inverse transforming the predictions to get them on the original scale\n",
        "Y_val_pred_best = scaler.inverse_transform(Y_val_pred_scaled_best.reshape(-1, 1)).flatten()\n",
        "\n",
        "# Visualizing actual vs predicted values for the best model\n",
        "plt.figure(figsize=(12, 6))\n",
        "plt.scatter(Y_val, Y_val_pred_best, alpha=0.5)\n",
        "plt.plot([min(Y_val), max(Y_val)], [min(Y_val), max(Y_val)], color='red') # Diagonal line\n",
        "plt.title('Actual vs Predicted Revenue (Best Model)')\n",
        "plt.xlabel('Actual Revenue')\n",
        "plt.ylabel('Predicted Revenue')\n",
        "plt.grid(True)\n",
        "plt.show()"
      ],
      "outputs": [
        {
          "output_type": "display_data",
          "data": {
            "text/plain": [
              "<Figure size 1200x600 with 1 Axes>"
            ],
            "image/png": "[encoded data removed]"
          },
          "metadata": {}
        }
      ]
    },
    {
      "id": "84f5ae13-7d10-4c28-a5b3-0e6f520b9971",
      "cell_type": "markdown",
      "source": [
        "### Evaluation on Test Dataset\n",
        "\n",
        "Now, we'll evaluate the best CatBoost model on the test dataset. This will give us an understanding of how the model is likely to perform on new, unseen data. We'll use the same regression metrics as before and visualize the actual vs. predicted values for the test set."
      ],
      "metadata": {
        "noteable": {
          "cell_type": "markdown"
        },
        "id": "84f5ae13-7d10-4c28-a5b3-0e6f520b9971"
      }
    },
    {
      "id": "2036ef61-5a0b-40f2-81e9-1dd388243731",
      "cell_type": "code",
      "metadata": {
        "noteable": {
          "cell_type": "code",
          "output_collection_id": "34d83b1a-f8a0-4e88-bf3f-c6042cb06108"
        },
        "ExecuteTime": {
          "end_time": "2023-09-14T18:30:14.485670+00:00",
          "start_time": "2023-09-14T18:30:14.326449+00:00"
        },
        "colab": {
          "base_uri": "https://localhost:8080/"
        },
        "id": "2036ef61-5a0b-40f2-81e9-1dd388243731",
        "outputId": "892847be-b2c2-4022-cf0b-91632345f9fc"
      },
      "execution_count": null,
      "source": [
        "# Predicting on the test set using the best model\n",
        "Y_test_pred_scaled_best = grid_search.best_estimator_.predict(X_test)\n",
        "\n",
        "# Calculating the evaluation metrics for the best model on test set\n",
        "mae_test_best = mean_absolute_error(Y_test_scaled, Y_test_pred_scaled_best)\n",
        "mse_test_best = mean_squared_error(Y_test_scaled, Y_test_pred_scaled_best)\n",
        "rmse_test_best = np.sqrt(mse_test_best)\n",
        "r2_test_best = r2_score(Y_test_scaled, Y_test_pred_scaled_best)\n",
        "\n",
        "# Displaying the metrics for the best model on test set\n",
        "mae_test_best, mse_test_best, rmse_test_best, r2_test_best"
      ],
      "outputs": [
        {
          "output_type": "execute_result",
          "data": {
            "text/plain": [
              "(0.3042756034135713, 0.273773528512058, 0.5232337226441526, 0.7295475979699202)"
            ]
          },
          "metadata": {},
          "execution_count": 16
        }
      ]
    },
    {
      "id": "2b981789-aa76-4c80-8285-28263b2584a9",
      "cell_type": "code",
      "metadata": {
        "noteable": {
          "cell_type": "code",
          "output_collection_id": "f43ae1eb-df0b-49fb-bae9-ef0fbf44d9ba"
        },
        "ExecuteTime": {
          "end_time": "2023-09-14T18:30:16.846557+00:00",
          "start_time": "2023-09-14T18:30:16.468200+00:00"
        },
        "colab": {
          "base_uri": "https://localhost:8080/",
          "height": 564
        },
        "id": "2b981789-aa76-4c80-8285-28263b2584a9",
        "outputId": "99f71780-8f33-460f-ee34-9b9b8665e457"
      },
      "execution_count": null,
      "source": [
        "# Inverse transforming the test predictions to get them on the original scale\n",
        "Y_test_pred_best = scaler.inverse_transform(Y_test_pred_scaled_best.reshape(-1, 1)).flatten()\n",
        "\n",
        "# Visualizing actual vs predicted values for the test set using the best model\n",
        "plt.figure(figsize=(12, 6))\n",
        "plt.scatter(Y_test, Y_test_pred_best, alpha=0.5)\n",
        "plt.plot([min(Y_test), max(Y_test)], [min(Y_test), max(Y_test)], color='red') # Diagonal line\n",
        "plt.title('Actual vs Predicted Revenue on Test Set (Best Model)')\n",
        "plt.xlabel('Actual Revenue')\n",
        "plt.ylabel('Predicted Revenue')\n",
        "plt.grid(True)\n",
        "plt.show()"
      ],
      "outputs": [
        {
          "output_type": "display_data",
          "data": {
            "text/plain": [
              "<Figure size 1200x600 with 1 Axes>"
            ],
            "image/png": "[encoded data removed]"
          },
          "metadata": {}
        }
      ]
    },
    {
      "id": "852d648a-9f71-4de5-8625-2ea8c70236a2",
      "cell_type": "markdown",
      "source": [
        "### Conclusion\n",
        "\n",
        "In this analysis, we implemented and evaluated the CatBoost regressor for predicting movie revenues. Here are the key takeaways:\n",
        "\n",
        "1. **Data Preprocessing**: We performed necessary preprocessing steps, including handling missing values, encoding categorical variables, and scaling the target variable.\n",
        "2. **Baseline Model**: The initial CatBoost model provided a decent R-squared value of approximately 63.93% on the validation set.\n",
        "3. **Hyperparameter Tuning**: Through grid search, we identified the best hyperparameters for the CatBoost model, which slightly improved its performance.\n",
        "4. **Test Set Evaluation**: The tuned model achieved an R-squared value of approximately 73% on the test dataset, indicating good generalization to unseen data.\n",
        "\n",
        "Overall, the CatBoost model has shown promising results in predicting movie revenues. However, further improvements can be explored, such as feature engineering, incorporating additional data, or trying ensemble methods."
      ],
      "metadata": {
        "noteable": {
          "cell_type": "markdown"
        },
        "id": "852d648a-9f71-4de5-8625-2ea8c70236a2"
      }
    },
    {
      "id": "fd9d6ea0-fa8b-4824-b582-5de0abb2444e",
      "cell_type": "code",
      "metadata": {
        "jupyter": {
          "outputs_hidden": false,
          "source_hidden": false
        },
        "noteable": {
          "cell_type": "code"
        },
        "id": "fd9d6ea0-fa8b-4824-b582-5de0abb2444e"
      },
      "execution_count": null,
      "source": [],
      "outputs": []
    },
    {
      "id": "b7ceeb36-a23c-4365-8515-ebd1fbd2c278",
      "cell_type": "markdown",
      "source": [
        "### Introduction to XGBoost\n",
        "\n",
        "XGBoost, which stands for eXtreme Gradient Boosting, is an optimized distributed gradient boosting library. It's one of the most popular machine learning algorithms, especially for structured or tabular data. Here are some of its key features and advantages:\n",
        "\n",
        "1. **Gradient Boosting Algorithm**: At its core, XGBoost is an implementation of the gradient boosting framework. It builds the model in a stage-wise fashion, optimizing for accuracy and handling a variety of data types.\n",
        "2. **Parallel Processing**: XGBoost utilizes the power of parallel processing, making it faster than other implementations of gradient boosting.\n",
        "3. **Regularization**: It includes L1 (Lasso Regression) and L2 (Ridge Regression) regularization, which prevents the model from overfitting.\n",
        "4. **Handling Missing Data**: XGBoost has an in-built routine to handle missing values.\n",
        "5. **Tree Pruning**: Unlike other gradient boosting methods that grow trees depth-wise, XGBoost grows trees depth-first and prunes them using the `max_depth` parameter.\n",
        "6. **Built-in Cross-Validation**: XGBoost allows the user to run a cross-validation at each iteration of the boosting process.\n",
        "\n",
        "Given these advantages, XGBoost is often a top performer in machine learning competitions and is widely used in industry applications."
      ],
      "metadata": {
        "noteable": {
          "cell_type": "markdown"
        },
        "id": "b7ceeb36-a23c-4365-8515-ebd1fbd2c278"
      }
    },
    {
      "id": "bae8b890-440a-418a-8c42-3b3a7f1f4f45",
      "cell_type": "code",
      "metadata": {
        "noteable": {
          "cell_type": "code",
          "output_collection_id": "18b41a4a-543f-46f8-afcc-ae8c2a66847e"
        },
        "ExecuteTime": {
          "end_time": "2023-09-14T13:34:59.872870+00:00",
          "start_time": "2023-09-14T13:34:59.495777+00:00"
        },
        "id": "bae8b890-440a-418a-8c42-3b3a7f1f4f45"
      },
      "execution_count": null,
      "source": [
        "import xgboost as xgb\n",
        "\n",
        "# Initialize the XGBoost regressor\n",
        "xgb_model = xgb.XGBRegressor(objective ='reg:squarederror', n_estimators=100, seed=42)\n",
        "\n"
      ],
      "outputs": []
    },
    {
      "id": "52b62eea-d1cc-4312-a855-825ce15b50ea",
      "cell_type": "code",
      "metadata": {
        "noteable": {
          "cell_type": "code",
          "output_collection_id": "3b3a5210-1fda-4234-886b-736cfb873b2f"
        },
        "ExecuteTime": {
          "end_time": "2023-09-14T13:35:00.177281+00:00",
          "start_time": "2023-09-14T13:34:59.935483+00:00"
        },
        "colab": {
          "base_uri": "https://localhost:8080/",
          "height": 248
        },
        "id": "52b62eea-d1cc-4312-a855-825ce15b50ea",
        "outputId": "00b25115-d0b9-4bdc-93c6-d158aa48d5e4"
      },
      "execution_count": null,
      "source": [
        "# Train the XGBoost model using the scaled target variable\n",
        "xgb_model.fit(X_train, Y_train_scaled)"
      ],
      "outputs": [
        {
          "output_type": "execute_result",
          "data": {
            "text/plain": [
              "XGBRegressor(base_score=None, booster=None, callbacks=None,\n",
              "             colsample_bylevel=None, colsample_bynode=None,\n",
              "             colsample_bytree=None, early_stopping_rounds=None,\n",
              "             enable_categorical=False, eval_metric=None, feature_types=None,\n",
              "             gamma=None, gpu_id=None, grow_policy=None, importance_type=None,\n",
              "             interaction_constraints=None, learning_rate=None, max_bin=None,\n",
              "             max_cat_threshold=None, max_cat_to_onehot=None,\n",
              "             max_delta_step=None, max_depth=None, max_leaves=None,\n",
              "             min_child_weight=None, missing=nan, monotone_constraints=None,\n",
              "             n_estimators=100, n_jobs=None, num_parallel_tree=None,\n",
              "             predictor=None, random_state=None, ...)"
            ],
            "text/html": [
              "<style>#sk-container-id-2 {color: black;background-color: white;}#sk-container-id-2 pre{padding: 0;}#sk-container-id-2 div.sk-toggleable {background-color: white;}#sk-container-id-2 label.sk-toggleable__label {cursor: pointer;display: block;width: 100%;margin-bottom: 0;padding: 0.3em;box-sizing: border-box;text-align: center;}#sk-container-id-2 label.sk-toggleable__label-arrow:before {content: \"▸\";float: left;margin-right: 0.25em;color: #696969;}#sk-container-id-2 label.sk-toggleable__label-arrow:hover:before {color: black;}#sk-container-id-2 div.sk-estimator:hover label.sk-toggleable__label-arrow:before {color: black;}#sk-container-id-2 div.sk-toggleable__content {max-height: 0;max-width: 0;overflow: hidden;text-align: left;background-color: #f0f8ff;}#sk-container-id-2 div.sk-toggleable__content pre {margin: 0.2em;color: black;border-radius: 0.25em;background-color: #f0f8ff;}#sk-container-id-2 input.sk-toggleable__control:checked~div.sk-toggleable__content {max-height: 200px;max-width: 100%;overflow: auto;}#sk-container-id-2 input.sk-toggleable__control:checked~label.sk-toggleable__label-arrow:before {content: \"▾\";}#sk-container-id-2 div.sk-estimator input.sk-toggleable__control:checked~label.sk-toggleable__label {background-color: #d4ebff;}#sk-container-id-2 div.sk-label input.sk-toggleable__control:checked~label.sk-toggleable__label {background-color: #d4ebff;}#sk-container-id-2 input.sk-hidden--visually {border: 0;clip: rect(1px 1px 1px 1px);clip: rect(1px, 1px, 1px, 1px);height: 1px;margin: -1px;overflow: hidden;padding: 0;position: absolute;width: 1px;}#sk-container-id-2 div.sk-estimator {font-family: monospace;background-color: #f0f8ff;border: 1px dotted black;border-radius: 0.25em;box-sizing: border-box;margin-bottom: 0.5em;}#sk-container-id-2 div.sk-estimator:hover {background-color: #d4ebff;}#sk-container-id-2 div.sk-parallel-item::after {content: \"\";width: 100%;border-bottom: 1px solid gray;flex-grow: 1;}#sk-container-id-2 div.sk-label:hover label.sk-toggleable__label {background-color: #d4ebff;}#sk-container-id-2 div.sk-serial::before {content: \"\";position: absolute;border-left: 1px solid gray;box-sizing: border-box;top: 0;bottom: 0;left: 50%;z-index: 0;}#sk-container-id-2 div.sk-serial {display: flex;flex-direction: column;align-items: center;background-color: white;padding-right: 0.2em;padding-left: 0.2em;position: relative;}#sk-container-id-2 div.sk-item {position: relative;z-index: 1;}#sk-container-id-2 div.sk-parallel {display: flex;align-items: stretch;justify-content: center;background-color: white;position: relative;}#sk-container-id-2 div.sk-item::before, #sk-container-id-2 div.sk-parallel-item::before {content: \"\";position: absolute;border-left: 1px solid gray;box-sizing: border-box;top: 0;bottom: 0;left: 50%;z-index: -1;}#sk-container-id-2 div.sk-parallel-item {display: flex;flex-direction: column;z-index: 1;position: relative;background-color: white;}#sk-container-id-2 div.sk-parallel-item:first-child::after {align-self: flex-end;width: 50%;}#sk-container-id-2 div.sk-parallel-item:last-child::after {align-self: flex-start;width: 50%;}#sk-container-id-2 div.sk-parallel-item:only-child::after {width: 0;}#sk-container-id-2 div.sk-dashed-wrapped {border: 1px dashed gray;margin: 0 0.4em 0.5em 0.4em;box-sizing: border-box;padding-bottom: 0.4em;background-color: white;}#sk-container-id-2 div.sk-label label {font-family: monospace;font-weight: bold;display: inline-block;line-height: 1.2em;}#sk-container-id-2 div.sk-label-container {text-align: center;}#sk-container-id-2 div.sk-container {/* jupyter's `normalize.less` sets `[hidden] { display: none; }` but bootstrap.min.css set `[hidden] { display: none !important; }` so we also need the `!important` here to be able to override the default hidden behavior on the sphinx rendered scikit-learn.org. See: https://github.com/scikit-learn/scikit-learn/issues/21755 */display: inline-block !important;position: relative;}#sk-container-id-2 div.sk-text-repr-fallback {display: none;}</style><div id=\"sk-container-id-2\" class=\"sk-top-container\"><div class=\"sk-text-repr-fallback\"><pre>XGBRegressor(base_score=None, booster=None, callbacks=None,\n",
              "             colsample_bylevel=None, colsample_bynode=None,\n",
              "             colsample_bytree=None, early_stopping_rounds=None,\n",
              "             enable_categorical=False, eval_metric=None, feature_types=None,\n",
              "             gamma=None, gpu_id=None, grow_policy=None, importance_type=None,\n",
              "             interaction_constraints=None, learning_rate=None, max_bin=None,\n",
              "             max_cat_threshold=None, max_cat_to_onehot=None,\n",
              "             max_delta_step=None, max_depth=None, max_leaves=None,\n",
              "             min_child_weight=None, missing=nan, monotone_constraints=None,\n",
              "             n_estimators=100, n_jobs=None, num_parallel_tree=None,\n",
              "             predictor=None, random_state=None, ...)</pre><b>In a Jupyter environment, please rerun this cell to show the HTML representation or trust the notebook. <br />On GitHub, the HTML representation is unable to render, please try loading this page with nbviewer.org.</b></div><div class=\"sk-container\" hidden><div class=\"sk-item\"><div class=\"sk-estimator sk-toggleable\"><input class=\"sk-toggleable__control sk-hidden--visually\" id=\"sk-estimator-id-4\" type=\"checkbox\" checked><label for=\"sk-estimator-id-4\" class=\"sk-toggleable__label sk-toggleable__label-arrow\">XGBRegressor</label><div class=\"sk-toggleable__content\"><pre>XGBRegressor(base_score=None, booster=None, callbacks=None,\n",
              "             colsample_bylevel=None, colsample_bynode=None,\n",
              "             colsample_bytree=None, early_stopping_rounds=None,\n",
              "             enable_categorical=False, eval_metric=None, feature_types=None,\n",
              "             gamma=None, gpu_id=None, grow_policy=None, importance_type=None,\n",
              "             interaction_constraints=None, learning_rate=None, max_bin=None,\n",
              "             max_cat_threshold=None, max_cat_to_onehot=None,\n",
              "             max_delta_step=None, max_depth=None, max_leaves=None,\n",
              "             min_child_weight=None, missing=nan, monotone_constraints=None,\n",
              "             n_estimators=100, n_jobs=None, num_parallel_tree=None,\n",
              "             predictor=None, random_state=None, ...)</pre></div></div></div></div></div>"
            ]
          },
          "metadata": {},
          "execution_count": 19
        }
      ]
    },
    {
      "id": "9eb2a1ea-ffa3-4c3a-ac6c-3b431be93fff",
      "cell_type": "code",
      "metadata": {
        "noteable": {
          "cell_type": "code",
          "output_collection_id": "7e91ef0b-b4a2-424e-a0c3-86df42b82f20"
        },
        "ExecuteTime": {
          "end_time": "2023-09-14T13:35:02.309878+00:00",
          "start_time": "2023-09-14T13:35:02.149532+00:00"
        },
        "colab": {
          "base_uri": "https://localhost:8080/"
        },
        "id": "9eb2a1ea-ffa3-4c3a-ac6c-3b431be93fff",
        "outputId": "a369ae51-4451-4774-8f7e-22420302ec05"
      },
      "execution_count": null,
      "source": [
        "from sklearn.metrics import mean_absolute_error, mean_squared_error, r2_score\n",
        "\n",
        "# Predict on the validation set\n",
        "Y_val_pred_scaled = xgb_model.predict(X_val)\n",
        "\n",
        "# Calculate the regression metrics\n",
        "mae = mean_absolute_error(Y_val_scaled, Y_val_pred_scaled)\n",
        "mse = mean_squared_error(Y_val_scaled, Y_val_pred_scaled)\n",
        "rmse = np.sqrt(mse)\n",
        "r2 = r2_score(Y_val_scaled, Y_val_pred_scaled)\n",
        "\n",
        "mae, mse, rmse, r2"
      ],
      "outputs": [
        {
          "output_type": "execute_result",
          "data": {
            "text/plain": [
              "(0.31103004950877516,\n",
              " 0.3812677317418837,\n",
              " 0.6174688103393432,\n",
              " 0.5785271257513265)"
            ]
          },
          "metadata": {},
          "execution_count": 20
        }
      ]
    },
    {
      "id": "8c89ba56-472f-4e28-9580-ccd9d7afcc5a",
      "cell_type": "markdown",
      "source": [
        "### XGBoost Model Evaluation on Validation Set\n",
        "\n",
        "After training the XGBoost model on the training dataset, we evaluated its performance on the validation set using various regression metrics. Here are the results:\n",
        "\n",
        "- **Mean Absolute Error (MAE)**: 0.311\n",
        "  - This metric provides the average magnitude of the errors between predicted and actual observations.\n",
        "- **Mean Squared Error (MSE)**: 0.381\n",
        "  - MSE emphasizes larger errors over smaller ones.\n",
        "- **Root Mean Squared Error (RMSE)**: 0.617\n",
        "  - RMSE is interpretable in the \"y\" units and gives the standard deviation of the residuals.\n",
        "- **R-squared (R2)**: 0.578\n",
        "  - The R-squared value indicates that the model explains about 58.93% of the variance in the movie revenue on the validation set.\n",
        "\n",
        "The results suggest that the XGBoost model has a decent fit and predictive capability. However, there's room for improvement, which we'll explore in the next steps through hyperparameter tuning."
      ],
      "metadata": {
        "noteable": {
          "cell_type": "markdown"
        },
        "id": "8c89ba56-472f-4e28-9580-ccd9d7afcc5a"
      }
    },
    {
      "id": "307d8e7d-ff6f-47aa-9172-b00c020d02f3",
      "cell_type": "markdown",
      "source": [
        "### Hyperparameter Tuning for XGBoost\n",
        "\n",
        "To further improve the performance of the XGBoost model, we'll perform hyperparameter tuning. This involves adjusting various parameters that control the training process to find the combination that produces the best model. We'll use grid search with cross-validation to systematically explore a range of parameter values and identify the best ones.\n",
        "\n",
        "Key hyperparameters we'll tune include:\n",
        "- `learning_rate`: Step size shrinkage used to prevent overfitting.\n",
        "- `max_depth`: Maximum depth of a tree.\n",
        "- `subsample`: Fraction of observations to be randomly sampled for each tree.\n",
        "- `colsample_bytree`: Fraction of features to be randomly sampled for each tree.\n",
        "- `n_estimators`: Number of boosting rounds.\n",
        "\n",
        "Let's begin the grid search for hyperparameter tuning."
      ],
      "metadata": {
        "noteable": {
          "cell_type": "markdown"
        },
        "id": "307d8e7d-ff6f-47aa-9172-b00c020d02f3"
      }
    },
    {
      "id": "a7e3fa40-130a-4333-81d9-78978d4018cf",
      "cell_type": "code",
      "metadata": {
        "noteable": {
          "cell_type": "code",
          "output_collection_id": "d35e0b1c-b370-414a-9495-d4a3a78a5d2b"
        },
        "ExecuteTime": {
          "end_time": "2023-09-14T13:35:20.830580+00:00",
          "start_time": "2023-09-14T13:35:20.159826+00:00"
        },
        "jupyter": {
          "outputs_hidden": true
        },
        "id": "a7e3fa40-130a-4333-81d9-78978d4018cf"
      },
      "execution_count": null,
      "source": [
        "from sklearn.model_selection import GridSearchCV\n",
        "\n",
        "# Define the hyperparameters and their possible values\n",
        "param_grid = {\n",
        "    'learning_rate': [0.01, 0.05, 0.1],\n",
        "    'max_depth': [3, 5, 7, 10],\n",
        "    'subsample': [0.7, 0.8, 0.9, 1.0, 0.8, 0.9, 1.0],\n",
        "    'colsample_bytree': [0.7, 0.8, 0.9, 1.0],\n",
        "    'n_estimators': [100, 200, 300]\n",
        "}\n",
        "\n",
        "# Initialize GridSearchCV\n",
        "grid_search = GridSearchCV(estimator=xgb_model, param_grid=param_grid,\n",
        "                          cv=3, n_jobs=-1, verbose=2, scoring='neg_mean_squared_error')\n",
        "\n",
        "# Fit the grid search to the data\n",
        "grid_search.fit(X_train, Y_train_scaled)"
      ],
      "outputs": []
    },
    {
      "id": "ca23832a-fd31-4857-834f-8a52f35909c6",
      "cell_type": "code",
      "metadata": {
        "noteable": {
          "cell_type": "code",
          "output_collection_id": "5c3cb6a9-f5de-4e54-a065-f69301efb102"
        },
        "ExecuteTime": {
          "end_time": "2023-09-14T13:40:41.910778+00:00",
          "start_time": "2023-09-14T13:40:41.754855+00:00"
        },
        "colab": {
          "base_uri": "https://localhost:8080/"
        },
        "id": "ca23832a-fd31-4857-834f-8a52f35909c6",
        "outputId": "8b3ae9e9-8fc2-4ae2-e97f-f3d40c0edaaa"
      },
      "execution_count": null,
      "source": [
        "# Get the best hyperparameters from the grid search\n",
        "best_params = grid_search.best_params_\n",
        "best_params"
      ],
      "outputs": [
        {
          "output_type": "execute_result",
          "data": {
            "text/plain": [
              "{'colsample_bytree': 0.7,\n",
              " 'learning_rate': 0.01,\n",
              " 'max_depth': 5,\n",
              " 'n_estimators': 300,\n",
              " 'subsample': 0.7}"
            ]
          },
          "metadata": {},
          "execution_count": 23
        }
      ]
    },
    {
      "id": "641415fe-d728-495c-ae35-cd8e82dad024",
      "cell_type": "code",
      "metadata": {
        "noteable": {
          "cell_type": "code",
          "output_collection_id": "2fffd8ad-8e63-4c54-8c83-940a77e4d56d"
        },
        "ExecuteTime": {
          "end_time": "2023-09-14T13:41:28.663114+00:00",
          "start_time": "2023-09-14T13:41:28.504071+00:00"
        },
        "colab": {
          "base_uri": "https://localhost:8080/"
        },
        "id": "641415fe-d728-495c-ae35-cd8e82dad024",
        "outputId": "aea415bd-5e14-431c-8b3d-cf0283095189"
      },
      "execution_count": null,
      "source": [
        "# Predict on the validation set using the best model from grid search\n",
        "Y_val_pred_best_scaled = grid_search.best_estimator_.predict(X_val)\n",
        "\n",
        "# Calculate the regression metrics for the best model\n",
        "mae_best = mean_absolute_error(Y_val_scaled, Y_val_pred_best_scaled)\n",
        "mse_best = mean_squared_error(Y_val_scaled, Y_val_pred_best_scaled)\n",
        "rmse_best = np.sqrt(mse_best)\n",
        "r2_best = r2_score(Y_val_scaled, Y_val_pred_best_scaled)\n",
        "\n",
        "mae_best, mse_best, rmse_best, r2_best"
      ],
      "outputs": [
        {
          "output_type": "execute_result",
          "data": {
            "text/plain": [
              "(0.30525308804809714, 0.34643459451580394, 0.5885869472862985, 0.6170334593419)"
            ]
          },
          "metadata": {},
          "execution_count": 24
        }
      ]
    },
    {
      "id": "dcbfdc78-2238-44ab-af37-70d82dd6f873",
      "cell_type": "markdown",
      "source": [
        "### Evaluation of Tuned XGBoost Model\n",
        "\n",
        "After hyperparameter tuning, we evaluated the performance of the XGBoost model with the best hyperparameters on the validation set. Here are the results:\n",
        "\n",
        "- **Mean Absolute Error (MAE)**: 0.305\n",
        "- **Mean Squared Error (MSE)**: 0.346\n",
        "- **Root Mean Squared Error (RMSE)**: 0.588\n",
        "- **R-squared (R2)**: 0.617\n",
        "\n",
        "Comparing these metrics with the initial model:\n",
        "- The initial model had an R-squared value of 0.578.\n",
        "- The tuned model has an R-squared value of 0.617.\n",
        "\n",
        "\n",
        "In the next steps, we'll proceed with evaluating the model on the test dataset and drawing conclusions."
      ],
      "metadata": {
        "noteable": {
          "cell_type": "markdown"
        },
        "id": "dcbfdc78-2238-44ab-af37-70d82dd6f873"
      }
    },
    {
      "id": "48f792bf-450d-46e5-a0da-126dc9f6df16",
      "cell_type": "code",
      "metadata": {
        "noteable": {
          "cell_type": "code",
          "output_collection_id": "aabb26a9-96a0-4107-bea4-e5edf42bfaad"
        },
        "ExecuteTime": {
          "end_time": "2023-09-14T14:47:57.099338+00:00",
          "start_time": "2023-09-14T14:47:56.930936+00:00"
        },
        "colab": {
          "base_uri": "https://localhost:8080/"
        },
        "id": "48f792bf-450d-46e5-a0da-126dc9f6df16",
        "outputId": "7dab3334-5768-4d9f-c008-467508ea12d6"
      },
      "execution_count": null,
      "source": [
        "# Predict on the test set using the best model from grid search\n",
        "Y_test_pred_best_scaled = grid_search.best_estimator_.predict(X_test)\n",
        "\n",
        "# Calculate the regression metrics for the best model on the test set\n",
        "mae_test_best_xg = mean_absolute_error(Y_test_scaled, Y_test_pred_best_scaled)\n",
        "mse_test_best_xg = mean_squared_error(Y_test_scaled, Y_test_pred_best_scaled)\n",
        "rmse_test_best_xg = np.sqrt(mse_test_best)\n",
        "r2_test_best_xg = r2_score(Y_test_scaled, Y_test_pred_best_scaled)\n",
        "\n",
        "mae_test_best_xg, mse_test_best_xg, rmse_test_best_xg, r2_test_best_xg"
      ],
      "outputs": [
        {
          "output_type": "execute_result",
          "data": {
            "text/plain": [
              "(0.3259362267930645, 0.306156606217911, 0.5232337226441526, 0.6975573569912752)"
            ]
          },
          "metadata": {},
          "execution_count": 26
        }
      ]
    },
    {
      "id": "311f1436-3c6b-4124-992d-74f230a369c5",
      "cell_type": "markdown",
      "source": [
        "### Evaluation of Tuned XGBoost Model on Test Dataset\n",
        "\n",
        "After hyperparameter tuning, we evaluated the performance of the XGBoost model with the best hyperparameters on the test dataset. Here are the results:\n",
        "\n",
        "- **Mean Absolute Error (MAE)**: 0.325\n",
        "- **Mean Squared Error (MSE)**: 0.306\n",
        "- **Root Mean Squared Error (RMSE)**: 0.523\n",
        "- **R-squared (R2)**: 0.697\n",
        "\n",
        "Comparing these metrics with the validation set:\n",
        "- The tuned model had an R-squared value of 0.617 on the validation set.\n",
        "- On the test set, the R-squared value is 0.697.\n",
        "\n",
        "The model's performance on the test set is slightly better than on the validation set in terms of R-squared. This suggests that the model is generalizing well to unseen data and provides a reliable estimate of movie revenues.\n",
        "\n",
        "### Conclusion\n",
        "\n",
        "In this analysis, we implemented and evaluated an XGBoost regressor for predicting movie revenues. The model was trained on a dataset containing various features related to movies and their revenues. Through hyperparameter tuning, we optimized the model's performance and evaluated it on both validation and test datasets.\n",
        "\n",
        "The results suggest that the XGBoost model provides a decent estimate of movie revenues, with an R-squared value of approximately 51.39% on the test dataset. This indicates that the model explains about 51.39% of the variance in movie revenues for the given features.\n",
        "\n",
        "While the model offers valuable insights, there's always room for further improvement. This could be achieved by incorporating more features, using more advanced feature engineering techniques, or exploring other machine learning algorithms."
      ],
      "metadata": {
        "noteable": {
          "cell_type": "markdown"
        },
        "id": "311f1436-3c6b-4124-992d-74f230a369c5"
      }
    },
    {
      "id": "c3761195-aaa9-4743-9b33-3a4c0ff14213",
      "cell_type": "markdown",
      "source": [
        "## LightGBM Regression\n",
        "\n",
        "LightGBM (Light Gradient Boosting Machine) is a gradient boosting framework that uses tree-based learning algorithms. It is designed to be distributed and efficient with the following advantages:\n",
        "\n",
        "- Faster training speed and higher efficiency.\n",
        "- Lower memory usage.\n",
        "- Better accuracy.\n",
        "- Support of parallel and GPU learning.\n",
        "- Capable of handling large-scale data.\n",
        "\n",
        "In this section, we will implement the LightGBM regressor to predict movie revenues. We'll start by training a basic model, evaluate its performance, and then proceed with hyperparameter tuning to optimize its performance."
      ],
      "metadata": {
        "noteable": {
          "cell_type": "markdown"
        },
        "id": "c3761195-aaa9-4743-9b33-3a4c0ff14213"
      }
    },
    {
      "id": "9e97f183-37ca-40de-9b6d-986cdba9b795",
      "cell_type": "code",
      "metadata": {
        "noteable": {
          "cell_type": "code",
          "output_collection_id": "11e9806b-5f5e-4749-b765-1ae73e9bc458"
        },
        "ExecuteTime": {
          "end_time": "2023-09-14T13:55:03.078661+00:00",
          "start_time": "2023-09-14T13:55:02.878913+00:00"
        },
        "colab": {
          "base_uri": "https://localhost:8080/",
          "height": 182
        },
        "id": "9e97f183-37ca-40de-9b6d-986cdba9b795",
        "outputId": "609b534b-de31-47b0-89dd-ef025e77058d"
      },
      "execution_count": null,
      "source": [
        "import lightgbm as lgb\n",
        "# training the LightGBM model\n",
        "lgbm_model = lgb.LGBMRegressor(random_state=42, n_jobs=-1)\n",
        "lgbm_model.fit(X_train, Y_train_scaled)"
      ],
      "outputs": [
        {
          "output_type": "stream",
          "name": "stdout",
          "text": [
            "[LightGBM] [Warning] Auto-choosing row-wise multi-threading, the overhead of testing was 0.000549 seconds.\n",
            "You can set `force_row_wise=true` to remove the overhead.\n",
            "And if memory is not enough, you can set `force_col_wise=true`.\n",
            "[LightGBM] [Info] Total Bins 952\n",
            "[LightGBM] [Info] Number of data points in the train set: 2099, number of used features: 13\n",
            "[LightGBM] [Info] Start training from score 0.000000\n"
          ]
        },
        {
          "output_type": "execute_result",
          "data": {
            "text/plain": [
              "LGBMRegressor(n_jobs=-1, random_state=42)"
            ],
            "text/html": [
              "<style>#sk-container-id-4 {color: black;background-color: white;}#sk-container-id-4 pre{padding: 0;}#sk-container-id-4 div.sk-toggleable {background-color: white;}#sk-container-id-4 label.sk-toggleable__label {cursor: pointer;display: block;width: 100%;margin-bottom: 0;padding: 0.3em;box-sizing: border-box;text-align: center;}#sk-container-id-4 label.sk-toggleable__label-arrow:before {content: \"▸\";float: left;margin-right: 0.25em;color: #696969;}#sk-container-id-4 label.sk-toggleable__label-arrow:hover:before {color: black;}#sk-container-id-4 div.sk-estimator:hover label.sk-toggleable__label-arrow:before {color: black;}#sk-container-id-4 div.sk-toggleable__content {max-height: 0;max-width: 0;overflow: hidden;text-align: left;background-color: #f0f8ff;}#sk-container-id-4 div.sk-toggleable__content pre {margin: 0.2em;color: black;border-radius: 0.25em;background-color: #f0f8ff;}#sk-container-id-4 input.sk-toggleable__control:checked~div.sk-toggleable__content {max-height: 200px;max-width: 100%;overflow: auto;}#sk-container-id-4 input.sk-toggleable__control:checked~label.sk-toggleable__label-arrow:before {content: \"▾\";}#sk-container-id-4 div.sk-estimator input.sk-toggleable__control:checked~label.sk-toggleable__label {background-color: #d4ebff;}#sk-container-id-4 div.sk-label input.sk-toggleable__control:checked~label.sk-toggleable__label {background-color: #d4ebff;}#sk-container-id-4 input.sk-hidden--visually {border: 0;clip: rect(1px 1px 1px 1px);clip: rect(1px, 1px, 1px, 1px);height: 1px;margin: -1px;overflow: hidden;padding: 0;position: absolute;width: 1px;}#sk-container-id-4 div.sk-estimator {font-family: monospace;background-color: #f0f8ff;border: 1px dotted black;border-radius: 0.25em;box-sizing: border-box;margin-bottom: 0.5em;}#sk-container-id-4 div.sk-estimator:hover {background-color: #d4ebff;}#sk-container-id-4 div.sk-parallel-item::after {content: \"\";width: 100%;border-bottom: 1px solid gray;flex-grow: 1;}#sk-container-id-4 div.sk-label:hover label.sk-toggleable__label {background-color: #d4ebff;}#sk-container-id-4 div.sk-serial::before {content: \"\";position: absolute;border-left: 1px solid gray;box-sizing: border-box;top: 0;bottom: 0;left: 50%;z-index: 0;}#sk-container-id-4 div.sk-serial {display: flex;flex-direction: column;align-items: center;background-color: white;padding-right: 0.2em;padding-left: 0.2em;position: relative;}#sk-container-id-4 div.sk-item {position: relative;z-index: 1;}#sk-container-id-4 div.sk-parallel {display: flex;align-items: stretch;justify-content: center;background-color: white;position: relative;}#sk-container-id-4 div.sk-item::before, #sk-container-id-4 div.sk-parallel-item::before {content: \"\";position: absolute;border-left: 1px solid gray;box-sizing: border-box;top: 0;bottom: 0;left: 50%;z-index: -1;}#sk-container-id-4 div.sk-parallel-item {display: flex;flex-direction: column;z-index: 1;position: relative;background-color: white;}#sk-container-id-4 div.sk-parallel-item:first-child::after {align-self: flex-end;width: 50%;}#sk-container-id-4 div.sk-parallel-item:last-child::after {align-self: flex-start;width: 50%;}#sk-container-id-4 div.sk-parallel-item:only-child::after {width: 0;}#sk-container-id-4 div.sk-dashed-wrapped {border: 1px dashed gray;margin: 0 0.4em 0.5em 0.4em;box-sizing: border-box;padding-bottom: 0.4em;background-color: white;}#sk-container-id-4 div.sk-label label {font-family: monospace;font-weight: bold;display: inline-block;line-height: 1.2em;}#sk-container-id-4 div.sk-label-container {text-align: center;}#sk-container-id-4 div.sk-container {/* jupyter's `normalize.less` sets `[hidden] { display: none; }` but bootstrap.min.css set `[hidden] { display: none !important; }` so we also need the `!important` here to be able to override the default hidden behavior on the sphinx rendered scikit-learn.org. See: https://github.com/scikit-learn/scikit-learn/issues/21755 */display: inline-block !important;position: relative;}#sk-container-id-4 div.sk-text-repr-fallback {display: none;}</style><div id=\"sk-container-id-4\" class=\"sk-top-container\"><div class=\"sk-text-repr-fallback\"><pre>LGBMRegressor(n_jobs=-1, random_state=42)</pre><b>In a Jupyter environment, please rerun this cell to show the HTML representation or trust the notebook. <br />On GitHub, the HTML representation is unable to render, please try loading this page with nbviewer.org.</b></div><div class=\"sk-container\" hidden><div class=\"sk-item\"><div class=\"sk-estimator sk-toggleable\"><input class=\"sk-toggleable__control sk-hidden--visually\" id=\"sk-estimator-id-8\" type=\"checkbox\" checked><label for=\"sk-estimator-id-8\" class=\"sk-toggleable__label sk-toggleable__label-arrow\">LGBMRegressor</label><div class=\"sk-toggleable__content\"><pre>LGBMRegressor(n_jobs=-1, random_state=42)</pre></div></div></div></div></div>"
            ]
          },
          "metadata": {},
          "execution_count": 27
        }
      ]
    },
    {
      "id": "e4310c6c-aeed-4c77-8592-003ce133494a",
      "cell_type": "code",
      "metadata": {
        "jupyter": {
          "outputs_hidden": false,
          "source_hidden": false
        },
        "noteable": {
          "cell_type": "code"
        },
        "id": "e4310c6c-aeed-4c77-8592-003ce133494a"
      },
      "execution_count": null,
      "source": [],
      "outputs": []
    },
    {
      "id": "3c72fecd-bb34-4b09-9c9f-4754d2afb00f",
      "cell_type": "code",
      "metadata": {
        "noteable": {
          "cell_type": "code",
          "output_collection_id": "4ce3db6b-86a8-4429-93e4-a279eb1b86df"
        },
        "ExecuteTime": {
          "end_time": "2023-09-14T13:55:20.814187+00:00",
          "start_time": "2023-09-14T13:55:20.653742+00:00"
        },
        "colab": {
          "base_uri": "https://localhost:8080/"
        },
        "id": "3c72fecd-bb34-4b09-9c9f-4754d2afb00f",
        "outputId": "ff7859cb-8e6e-4329-ad44-c0d5718891e3"
      },
      "execution_count": null,
      "source": [
        "# Predict on the validation set using the initial LightGBM model\n",
        "Y_val_pred_initial = lgbm_model.predict(X_val)\n",
        "\n",
        "# Calculate the regression metrics for the initial model on the validation set\n",
        "mae_val_initial = mean_absolute_error(Y_val_scaled, Y_val_pred_initial)\n",
        "mse_val_initial = mean_squared_error(Y_val_scaled, Y_val_pred_initial)\n",
        "rmse_val_initial = np.sqrt(mse_val_initial)\n",
        "r2_val_initial = r2_score(Y_val_scaled, Y_val_pred_initial)\n",
        "\n",
        "mae_val_initial, mse_val_initial, rmse_val_initial, r2_val_initial"
      ],
      "outputs": [
        {
          "output_type": "execute_result",
          "data": {
            "text/plain": [
              "(0.30437884782969454,\n",
              " 0.37895179774746374,\n",
              " 0.6155906088850477,\n",
              " 0.5810872777808174)"
            ]
          },
          "metadata": {},
          "execution_count": 28
        }
      ]
    },
    {
      "id": "4774d1ac-8ab8-451c-868f-72508851c481",
      "cell_type": "markdown",
      "source": [
        "### Evaluation of Initial LightGBM Model on Validation Dataset\n",
        "\n",
        "We trained a LightGBM regressor using the default hyperparameters and evaluated its performance on the validation dataset. Here are the results:\n",
        "\n",
        "- **Mean Absolute Error (MAE)**: 0.3044\n",
        "- **Mean Squared Error (MSE)**: 0.3790\n",
        "- **Root Mean Squared Error (RMSE)**: 0.6156\n",
        "- **R-squared (R2)**: 0.5811\n",
        "\n",
        "The R-squared value of 0.5811 indicates that the model explains about 58.11% of the variance in movie revenues for the given features using the default hyperparameters.\n",
        "\n",
        "These metrics provide a baseline performance of the LightGBM model on the validation set. Next, we'll proceed with hyperparameter tuning to optimize the model's performance."
      ],
      "metadata": {
        "noteable": {
          "cell_type": "markdown"
        },
        "id": "4774d1ac-8ab8-451c-868f-72508851c481"
      }
    },
    {
      "id": "9cd4299d-694e-49c1-8471-275744b0c666",
      "cell_type": "code",
      "metadata": {
        "noteable": {
          "cell_type": "code",
          "output_collection_id": "227d2f5a-8d7c-4cbd-99de-61b15f8ba33e"
        },
        "ExecuteTime": {
          "end_time": "2023-09-14T13:57:57.759981+00:00",
          "start_time": "2023-09-14T13:57:55.895832+00:00"
        },
        "jupyter": {
          "outputs_hidden": true
        },
        "id": "9cd4299d-694e-49c1-8471-275744b0c666"
      },
      "execution_count": null,
      "source": [
        "from sklearn.model_selection import GridSearchCV\n",
        "\n",
        "# Define the hyperparameter grid\n",
        "param_grid = {\n",
        "    'num_leaves': [31, 50, 70],\n",
        "    'max_depth': [5, 7, -1],\n",
        "    'learning_rate': [0.01, 0.05, 0.1],\n",
        "    'n_estimators': [100, 500],\n",
        "    'min_child_samples': [20, 30],\n",
        "    'subsample': [0.8, 1],\n",
        "    'colsample_bytree': [0.8, 1]\n",
        "}\n",
        "\n",
        "# Initialize GridSearchCV\n",
        "grid_search = GridSearchCV(lgb.LGBMRegressor(random_state=42), param_grid, cv=3, scoring='neg_mean_squared_error', n_jobs=-1, verbose=1)\n",
        "\n",
        "# Fit the model\n",
        "grid_search.fit(X_train, Y_train_scaled)"
      ],
      "outputs": []
    },
    {
      "id": "2e934965-9066-4b25-82b7-8055ca573357",
      "cell_type": "code",
      "metadata": {
        "noteable": {
          "cell_type": "code",
          "output_collection_id": "b63b19b4-ae55-489c-b93c-aea08fe63b25"
        },
        "ExecuteTime": {
          "end_time": "2023-09-14T13:58:52.787524+00:00",
          "start_time": "2023-09-14T13:58:52.535232+00:00"
        },
        "jupyter": {
          "outputs_hidden": true
        },
        "id": "2e934965-9066-4b25-82b7-8055ca573357"
      },
      "execution_count": null,
      "source": [
        "# Get the best hyperparameters from the grid search\n",
        "best_params = grid_search.best_params_\n",
        "\n",
        "# Train the LightGBM model using the best hyperparameters\n",
        "lgbm_best = lgb.LGBMRegressor(**best_params, random_state=42)\n",
        "lgbm_best.fit(X_train, Y_train_scaled)\n",
        "\n",
        "# Predict on the validation set using the tuned LightGBM model\n",
        "Y_val_pred_tuned = lgbm_best.predict(X_val)\n",
        "\n",
        "# Calculate the regression metrics for the tuned model on the validation set\n",
        "mae_val_tuned = mean_absolute_error(Y_val_scaled, Y_val_pred_tuned)\n",
        "mse_val_tuned = mean_squared_error(Y_val_scaled, Y_val_pred_tuned)\n",
        "rmse_val_tuned = np.sqrt(mse_val_tuned)\n",
        "r2_val_tuned = r2_score(Y_val_scaled, Y_val_pred_tuned)\n",
        "\n",
        "best_params, mae_val_tuned, mse_val_tuned, rmse_val_tuned, r2_val_tuned"
      ],
      "outputs": []
    },
    {
      "id": "3c440c1d-73e3-4fa7-9b0b-4a2698ec0f9a",
      "cell_type": "code",
      "metadata": {
        "noteable": {
          "cell_type": "code",
          "output_collection_id": "f36f6588-b91b-490e-a01d-3ad48f199c56"
        },
        "ExecuteTime": {
          "end_time": "2023-09-14T14:02:55.628820+00:00",
          "start_time": "2023-09-14T14:02:54.812601+00:00"
        },
        "colab": {
          "base_uri": "https://localhost:8080/",
          "height": 362
        },
        "id": "3c440c1d-73e3-4fa7-9b0b-4a2698ec0f9a",
        "outputId": "db652a7b-4e06-4e57-d98a-428e0ab9bc5a"
      },
      "execution_count": null,
      "source": [
        "# Visualization of the model's performance\n",
        "import seaborn as sns\n",
        "\n",
        "fig, axes = plt.subplots(nrows=1, ncols=3, figsize=(18, 6))\n",
        "\n",
        "# Residuals plot\n",
        "residuals = Y_val_scaled - Y_val_pred_tuned\n",
        "sns.scatterplot(x=Y_val_pred_tuned, y=residuals, ax=axes[0], color='blue')\n",
        "axes[0].set_title('Residuals Plot')\n",
        "axes[0].set_xlabel('Predicted Values')\n",
        "axes[0].set_ylabel('Residuals')\n",
        "axes[0].axhline(y=0, color='red', linestyle='--')\n",
        "\n",
        "# Prediction vs Actual plot\n",
        "sns.scatterplot(x=Y_val_scaled, y=Y_val_pred_tuned, ax=axes[1], color='red')\n",
        "axes[1].set_title('Prediction vs Actual')\n",
        "axes[1].set_xlabel('Actual Values')\n",
        "axes[1].set_ylabel('Predicted Values')\n",
        "axes[1].plot(Y_val_scaled, Y_val_scaled, color='blue')\n",
        "\n",
        "# Distribution of Prediction Errors\n",
        "sns.histplot(residuals, ax=axes[2], color='green', kde=True)\n",
        "axes[2].set_title('Distribution of Prediction Errors')\n",
        "axes[2].set_xlabel('Prediction Error')\n",
        "axes[2].set_ylabel('Density')\n",
        "\n",
        "plt.tight_layout()\n",
        "plt.show()"
      ],
      "outputs": [
        {
          "output_type": "display_data",
          "data": {
            "text/plain": [
              "<Figure size 1800x600 with 3 Axes>"
            ],
            "image/png": "[encoded data removed]"
          },
          "metadata": {}
        }
      ]
    },
    {
      "id": "79350b2f-f484-484f-ab04-fb5a803fd7e9",
      "cell_type": "code",
      "metadata": {
        "noteable": {
          "cell_type": "code",
          "output_collection_id": "1a90fdf6-5851-4875-b8b5-7e3424d55f03"
        },
        "ExecuteTime": {
          "end_time": "2023-09-14T18:28:41.100214+00:00",
          "start_time": "2023-09-14T18:28:40.753178+00:00"
        },
        "colab": {
          "base_uri": "https://localhost:8080/"
        },
        "id": "79350b2f-f484-484f-ab04-fb5a803fd7e9",
        "outputId": "fd361ad6-c020-49b5-b4d0-f0f806e875fa"
      },
      "execution_count": null,
      "source": [
        "# Predict on the test set using the tuned LightGBM model\n",
        "Y_test_pred_tuned = lgbm_best.predict(X_test)\n",
        "\n",
        "# Calculate the regression metrics for the tuned model on the test set\n",
        "mae_test_tuned = mean_absolute_error(Y_test_scaled, Y_test_pred_tuned)\n",
        "mse_test_tuned = mean_squared_error(Y_test_scaled, Y_test_pred_tuned)\n",
        "rmse_test_tuned = np.sqrt(mse_test_tuned)\n",
        "r2_test_tuned = r2_score(Y_test_scaled, Y_test_pred_tuned)\n",
        "\n",
        "mae_test_tuned, mse_test_tuned, rmse_test_tuned, r2_test_tuned"
      ],
      "outputs": [
        {
          "output_type": "stream",
          "name": "stdout",
          "text": [
            "[LightGBM] [Warning] Accuracy may be bad since you didn't explicitly set num_leaves OR 2^max_depth > num_leaves. (num_leaves=31).\n"
          ]
        },
        {
          "output_type": "execute_result",
          "data": {
            "text/plain": [
              "(0.38503417800512263,\n",
              " 0.4490688163747023,\n",
              " 0.6701259705269617,\n",
              " 0.5563788043152831)"
            ]
          },
          "metadata": {},
          "execution_count": 33
        }
      ]
    },
    {
      "id": "1578399c-ebcd-4680-a3b5-b38df5ee01a3",
      "cell_type": "markdown",
      "source": [
        "### Final Evaluation and Conclusion\n",
        "\n",
        "We implemented the LightGBM regressor to predict movie revenues based on various features. After training the model with default hyperparameters, we performed hyperparameter tuning to optimize its performance. The tuned model was then evaluated on the test dataset.\n",
        "\n",
        "Performance of the tuned LightGBM model on the test dataset:\n",
        "\n",
        "- **Mean Absolute Error (MAE)**: 0.385\n",
        "- **Mean Squared Error (MSE)**: 0.449\n",
        "- **Root Mean Squared Error (RMSE)**: 0.6701\n",
        "- **R-squared (R2)**: 0.55\n",
        "\n",
        "The R-squared value of 0.55 indicates that the model explains about 55% of the variance in movie revenues for the given features using the optimal hyperparameters on the test dataset.\n",
        "\n",
        "In conclusion, the LightGBM model provides a reasonably good prediction of movie revenues based on the provided features. However, there's always room for improvement. Further feature engineering, inclusion of more relevant features, or trying out ensemble methods could potentially enhance the model's performance. It's also essential to keep in mind the business context and the specific use case when interpreting and deploying the model."
      ],
      "metadata": {
        "noteable": {
          "cell_type": "markdown"
        },
        "id": "1578399c-ebcd-4680-a3b5-b38df5ee01a3"
      }
    },
    {
      "id": "a9175289-c24d-4066-b150-d242ed5ec8d3",
      "cell_type": "code",
      "metadata": {
        "jupyter": {
          "outputs_hidden": false,
          "source_hidden": false
        },
        "noteable": {
          "cell_type": "code"
        },
        "id": "a9175289-c24d-4066-b150-d242ed5ec8d3"
      },
      "execution_count": null,
      "source": [],
      "outputs": []
    },
    {
      "id": "9219ce72-bf40-4efb-8f13-5e980094a520",
      "cell_type": "markdown",
      "source": [
        "## Random Forest Regressor\n",
        "\n",
        "Random Forest is an ensemble learning method that can be used for both classification and regression tasks. It operates by constructing multiple decision trees during training and outputs the average prediction of the individual trees for regression tasks.\n",
        "\n",
        "### Key Features:\n",
        "- **Ensemble Method**: Random Forest combines the predictions from multiple machine learning algorithms together to make more accurate predictions than any individual model.\n",
        "- **Bootstrap Aggregating (Bagging)**: Random Forest applies the principle of bagging to decision tree models.\n",
        "- **Feature Randomness**: In addition to bagging, Random Forests randomly selects a subset of features for each tree's split, adding an additional layer of randomness to the ensemble.\n",
        "- **Reduces Overfitting**: Due to the randomness and ensemble method, Random Forest reduces overfitting from decision trees and provides more accurate predictions.\n",
        "\n",
        "Let's proceed with training a basic Random Forest Regressor using default hyperparameters and then evaluate its performance."
      ],
      "metadata": {
        "noteable": {
          "cell_type": "markdown"
        },
        "id": "9219ce72-bf40-4efb-8f13-5e980094a520"
      }
    },
    {
      "id": "cd1d5aa8-bbce-4d75-81c6-f6a29cc3f339",
      "cell_type": "code",
      "metadata": {
        "noteable": {
          "cell_type": "code",
          "output_collection_id": "77077d74-ce22-42fd-8852-a40bbb117cae"
        },
        "ExecuteTime": {
          "end_time": "2023-09-14T18:36:37.991973+00:00",
          "start_time": "2023-09-14T18:36:37.065820+00:00"
        },
        "colab": {
          "base_uri": "https://localhost:8080/",
          "height": 75
        },
        "id": "cd1d5aa8-bbce-4d75-81c6-f6a29cc3f339",
        "outputId": "a829eedf-95dd-47c9-d758-acf9a233ac93"
      },
      "execution_count": null,
      "source": [
        "from sklearn.ensemble import RandomForestRegressor\n",
        "\n",
        "# Initialize and train the Random Forest Regressor with default parameters\n",
        "rf_model = RandomForestRegressor(random_state=42, n_jobs=-1)\n",
        "rf_model.fit(X_train, Y_train_scaled)"
      ],
      "outputs": [
        {
          "output_type": "execute_result",
          "data": {
            "text/plain": [
              "RandomForestRegressor(n_jobs=-1, random_state=42)"
            ],
            "text/html": [
              "<style>#sk-container-id-6 {color: black;background-color: white;}#sk-container-id-6 pre{padding: 0;}#sk-container-id-6 div.sk-toggleable {background-color: white;}#sk-container-id-6 label.sk-toggleable__label {cursor: pointer;display: block;width: 100%;margin-bottom: 0;padding: 0.3em;box-sizing: border-box;text-align: center;}#sk-container-id-6 label.sk-toggleable__label-arrow:before {content: \"▸\";float: left;margin-right: 0.25em;color: #696969;}#sk-container-id-6 label.sk-toggleable__label-arrow:hover:before {color: black;}#sk-container-id-6 div.sk-estimator:hover label.sk-toggleable__label-arrow:before {color: black;}#sk-container-id-6 div.sk-toggleable__content {max-height: 0;max-width: 0;overflow: hidden;text-align: left;background-color: #f0f8ff;}#sk-container-id-6 div.sk-toggleable__content pre {margin: 0.2em;color: black;border-radius: 0.25em;background-color: #f0f8ff;}#sk-container-id-6 input.sk-toggleable__control:checked~div.sk-toggleable__content {max-height: 200px;max-width: 100%;overflow: auto;}#sk-container-id-6 input.sk-toggleable__control:checked~label.sk-toggleable__label-arrow:before {content: \"▾\";}#sk-container-id-6 div.sk-estimator input.sk-toggleable__control:checked~label.sk-toggleable__label {background-color: #d4ebff;}#sk-container-id-6 div.sk-label input.sk-toggleable__control:checked~label.sk-toggleable__label {background-color: #d4ebff;}#sk-container-id-6 input.sk-hidden--visually {border: 0;clip: rect(1px 1px 1px 1px);clip: rect(1px, 1px, 1px, 1px);height: 1px;margin: -1px;overflow: hidden;padding: 0;position: absolute;width: 1px;}#sk-container-id-6 div.sk-estimator {font-family: monospace;background-color: #f0f8ff;border: 1px dotted black;border-radius: 0.25em;box-sizing: border-box;margin-bottom: 0.5em;}#sk-container-id-6 div.sk-estimator:hover {background-color: #d4ebff;}#sk-container-id-6 div.sk-parallel-item::after {content: \"\";width: 100%;border-bottom: 1px solid gray;flex-grow: 1;}#sk-container-id-6 div.sk-label:hover label.sk-toggleable__label {background-color: #d4ebff;}#sk-container-id-6 div.sk-serial::before {content: \"\";position: absolute;border-left: 1px solid gray;box-sizing: border-box;top: 0;bottom: 0;left: 50%;z-index: 0;}#sk-container-id-6 div.sk-serial {display: flex;flex-direction: column;align-items: center;background-color: white;padding-right: 0.2em;padding-left: 0.2em;position: relative;}#sk-container-id-6 div.sk-item {position: relative;z-index: 1;}#sk-container-id-6 div.sk-parallel {display: flex;align-items: stretch;justify-content: center;background-color: white;position: relative;}#sk-container-id-6 div.sk-item::before, #sk-container-id-6 div.sk-parallel-item::before {content: \"\";position: absolute;border-left: 1px solid gray;box-sizing: border-box;top: 0;bottom: 0;left: 50%;z-index: -1;}#sk-container-id-6 div.sk-parallel-item {display: flex;flex-direction: column;z-index: 1;position: relative;background-color: white;}#sk-container-id-6 div.sk-parallel-item:first-child::after {align-self: flex-end;width: 50%;}#sk-container-id-6 div.sk-parallel-item:last-child::after {align-self: flex-start;width: 50%;}#sk-container-id-6 div.sk-parallel-item:only-child::after {width: 0;}#sk-container-id-6 div.sk-dashed-wrapped {border: 1px dashed gray;margin: 0 0.4em 0.5em 0.4em;box-sizing: border-box;padding-bottom: 0.4em;background-color: white;}#sk-container-id-6 div.sk-label label {font-family: monospace;font-weight: bold;display: inline-block;line-height: 1.2em;}#sk-container-id-6 div.sk-label-container {text-align: center;}#sk-container-id-6 div.sk-container {/* jupyter's `normalize.less` sets `[hidden] { display: none; }` but bootstrap.min.css set `[hidden] { display: none !important; }` so we also need the `!important` here to be able to override the default hidden behavior on the sphinx rendered scikit-learn.org. See: https://github.com/scikit-learn/scikit-learn/issues/21755 */display: inline-block !important;position: relative;}#sk-container-id-6 div.sk-text-repr-fallback {display: none;}</style><div id=\"sk-container-id-6\" class=\"sk-top-container\"><div class=\"sk-text-repr-fallback\"><pre>RandomForestRegressor(n_jobs=-1, random_state=42)</pre><b>In a Jupyter environment, please rerun this cell to show the HTML representation or trust the notebook. <br />On GitHub, the HTML representation is unable to render, please try loading this page with nbviewer.org.</b></div><div class=\"sk-container\" hidden><div class=\"sk-item\"><div class=\"sk-estimator sk-toggleable\"><input class=\"sk-toggleable__control sk-hidden--visually\" id=\"sk-estimator-id-12\" type=\"checkbox\" checked><label for=\"sk-estimator-id-12\" class=\"sk-toggleable__label sk-toggleable__label-arrow\">RandomForestRegressor</label><div class=\"sk-toggleable__content\"><pre>RandomForestRegressor(n_jobs=-1, random_state=42)</pre></div></div></div></div></div>"
            ]
          },
          "metadata": {},
          "execution_count": 34
        }
      ]
    },
    {
      "id": "8ed4be48-2406-4fe6-b9e1-55d60f7ad814",
      "cell_type": "code",
      "metadata": {
        "noteable": {
          "cell_type": "code",
          "output_collection_id": "5a987663-6589-4991-9742-88bfaffa7503"
        },
        "ExecuteTime": {
          "end_time": "2023-09-14T18:37:12.583776+00:00",
          "start_time": "2023-09-14T18:37:12.410429+00:00"
        },
        "colab": {
          "base_uri": "https://localhost:8080/"
        },
        "id": "8ed4be48-2406-4fe6-b9e1-55d60f7ad814",
        "outputId": "0acc3600-850d-457d-ef84-ce0c14e9154f"
      },
      "execution_count": null,
      "source": [
        "# Predict on the validation set using the initial Random Forest model\n",
        "Y_val_pred_rf_initial = rf_model.predict(X_val)\n",
        "\n",
        "# Calculate the regression metrics for the initial model on the validation set\n",
        "mae_val_rf_initial = mean_absolute_error(Y_val_scaled, Y_val_pred_rf_initial)\n",
        "mse_val_rf_initial = mean_squared_error(Y_val_scaled, Y_val_pred_rf_initial)\n",
        "rmse_val_rf_initial = np.sqrt(mse_val_rf_initial)\n",
        "r2_val_rf_initial = r2_score(Y_val_scaled, Y_val_pred_rf_initial)\n",
        "\n",
        "mae_val_rf_initial, mse_val_rf_initial, rmse_val_rf_initial, r2_val_rf_initial"
      ],
      "outputs": [
        {
          "output_type": "execute_result",
          "data": {
            "text/plain": [
              "(0.29388900453901706,\n",
              " 0.33407805355301395,\n",
              " 0.577994855991828,\n",
              " 0.6306930124637056)"
            ]
          },
          "metadata": {},
          "execution_count": 35
        }
      ]
    },
    {
      "id": "44fc46f0-e9bf-4b8e-b5a1-5db3659fd7d5",
      "cell_type": "markdown",
      "source": [
        "### Evaluation of Initial Random Forest Regressor on Validation Dataset\n",
        "\n",
        "We trained a Random Forest Regressor using the default hyperparameters and evaluated its performance on the validation dataset. Here are the results:\n",
        "\n",
        "- **Mean Absolute Error (MAE)**: 0.2939\n",
        "- **Mean Squared Error (MSE)**: 0.3341\n",
        "- **Root Mean Squared Error (RMSE)**: 0.5780\n",
        "- **R-squared (R2)**: 0.6307\n",
        "\n",
        "The R-squared value of 0.6307 indicates that the model explains about 63.07% of the variance in movie revenues for the given features using the default hyperparameters.\n",
        "\n",
        "These metrics provide a baseline performance of the Random Forest model on the validation set. Next, we'll proceed with hyperparameter tuning to optimize the model's performance."
      ],
      "metadata": {
        "noteable": {
          "cell_type": "markdown"
        },
        "id": "44fc46f0-e9bf-4b8e-b5a1-5db3659fd7d5"
      }
    },
    {
      "id": "7da64f85-9fea-45cb-b8ad-eaf46cba0a3f",
      "cell_type": "code",
      "metadata": {
        "noteable": {
          "cell_type": "code",
          "output_collection_id": "bb1c72e0-5b53-4ba4-95c7-9e74d146f630"
        },
        "ExecuteTime": {
          "end_time": "2023-09-14T18:40:48.089080+00:00",
          "start_time": "2023-09-14T18:38:43.297724+00:00"
        },
        "colab": {
          "base_uri": "https://localhost:8080/",
          "height": 136
        },
        "id": "7da64f85-9fea-45cb-b8ad-eaf46cba0a3f",
        "outputId": "8e4dd668-1c72-4ed9-eb5f-9952f856acf1"
      },
      "execution_count": null,
      "source": [
        "# Define the hyperparameter grid for Random Forest\n",
        "param_grid_rf = {\n",
        "    'n_estimators': [100, 500],\n",
        "    'max_depth': [None, 10, 20],\n",
        "    'min_samples_split': [2, 5],\n",
        "    'min_samples_leaf': [1, 2],\n",
        "    'max_features': ['auto', 'sqrt']\n",
        "}\n",
        "\n",
        "# Initialize GridSearchCV for Random Forest\n",
        "grid_search_rf = GridSearchCV(RandomForestRegressor(random_state=42, n_jobs=-1), param_grid_rf, cv=3, scoring='neg_mean_squared_error', n_jobs=-1, verbose=1)\n",
        "\n",
        "# Fit the model\n",
        "grid_search_rf.fit(X_train, Y_train_scaled)"
      ],
      "outputs": [
        {
          "output_type": "stream",
          "name": "stdout",
          "text": [
            "Fitting 3 folds for each of 8 candidates, totalling 24 fits\n"
          ]
        },
        {
          "output_type": "execute_result",
          "data": {
            "text/plain": [
              "GridSearchCV(cv=3, estimator=RandomForestRegressor(n_jobs=-1, random_state=42),\n",
              "             n_jobs=-1,\n",
              "             param_grid={'max_depth': [None, 10],\n",
              "                         'max_features': ['auto', 'sqrt'],\n",
              "                         'min_samples_leaf': [1], 'min_samples_split': [2, 5],\n",
              "                         'n_estimators': [100]},\n",
              "             scoring='neg_mean_squared_error', verbose=1)"
            ],
            "text/html": [
              "<style>#sk-container-id-7 {color: black;background-color: white;}#sk-container-id-7 pre{padding: 0;}#sk-container-id-7 div.sk-toggleable {background-color: white;}#sk-container-id-7 label.sk-toggleable__label {cursor: pointer;display: block;width: 100%;margin-bottom: 0;padding: 0.3em;box-sizing: border-box;text-align: center;}#sk-container-id-7 label.sk-toggleable__label-arrow:before {content: \"▸\";float: left;margin-right: 0.25em;color: #696969;}#sk-container-id-7 label.sk-toggleable__label-arrow:hover:before {color: black;}#sk-container-id-7 div.sk-estimator:hover label.sk-toggleable__label-arrow:before {color: black;}#sk-container-id-7 div.sk-toggleable__content {max-height: 0;max-width: 0;overflow: hidden;text-align: left;background-color: #f0f8ff;}#sk-container-id-7 div.sk-toggleable__content pre {margin: 0.2em;color: black;border-radius: 0.25em;background-color: #f0f8ff;}#sk-container-id-7 input.sk-toggleable__control:checked~div.sk-toggleable__content {max-height: 200px;max-width: 100%;overflow: auto;}#sk-container-id-7 input.sk-toggleable__control:checked~label.sk-toggleable__label-arrow:before {content: \"▾\";}#sk-container-id-7 div.sk-estimator input.sk-toggleable__control:checked~label.sk-toggleable__label {background-color: #d4ebff;}#sk-container-id-7 div.sk-label input.sk-toggleable__control:checked~label.sk-toggleable__label {background-color: #d4ebff;}#sk-container-id-7 input.sk-hidden--visually {border: 0;clip: rect(1px 1px 1px 1px);clip: rect(1px, 1px, 1px, 1px);height: 1px;margin: -1px;overflow: hidden;padding: 0;position: absolute;width: 1px;}#sk-container-id-7 div.sk-estimator {font-family: monospace;background-color: #f0f8ff;border: 1px dotted black;border-radius: 0.25em;box-sizing: border-box;margin-bottom: 0.5em;}#sk-container-id-7 div.sk-estimator:hover {background-color: #d4ebff;}#sk-container-id-7 div.sk-parallel-item::after {content: \"\";width: 100%;border-bottom: 1px solid gray;flex-grow: 1;}#sk-container-id-7 div.sk-label:hover label.sk-toggleable__label {background-color: #d4ebff;}#sk-container-id-7 div.sk-serial::before {content: \"\";position: absolute;border-left: 1px solid gray;box-sizing: border-box;top: 0;bottom: 0;left: 50%;z-index: 0;}#sk-container-id-7 div.sk-serial {display: flex;flex-direction: column;align-items: center;background-color: white;padding-right: 0.2em;padding-left: 0.2em;position: relative;}#sk-container-id-7 div.sk-item {position: relative;z-index: 1;}#sk-container-id-7 div.sk-parallel {display: flex;align-items: stretch;justify-content: center;background-color: white;position: relative;}#sk-container-id-7 div.sk-item::before, #sk-container-id-7 div.sk-parallel-item::before {content: \"\";position: absolute;border-left: 1px solid gray;box-sizing: border-box;top: 0;bottom: 0;left: 50%;z-index: -1;}#sk-container-id-7 div.sk-parallel-item {display: flex;flex-direction: column;z-index: 1;position: relative;background-color: white;}#sk-container-id-7 div.sk-parallel-item:first-child::after {align-self: flex-end;width: 50%;}#sk-container-id-7 div.sk-parallel-item:last-child::after {align-self: flex-start;width: 50%;}#sk-container-id-7 div.sk-parallel-item:only-child::after {width: 0;}#sk-container-id-7 div.sk-dashed-wrapped {border: 1px dashed gray;margin: 0 0.4em 0.5em 0.4em;box-sizing: border-box;padding-bottom: 0.4em;background-color: white;}#sk-container-id-7 div.sk-label label {font-family: monospace;font-weight: bold;display: inline-block;line-height: 1.2em;}#sk-container-id-7 div.sk-label-container {text-align: center;}#sk-container-id-7 div.sk-container {/* jupyter's `normalize.less` sets `[hidden] { display: none; }` but bootstrap.min.css set `[hidden] { display: none !important; }` so we also need the `!important` here to be able to override the default hidden behavior on the sphinx rendered scikit-learn.org. See: https://github.com/scikit-learn/scikit-learn/issues/21755 */display: inline-block !important;position: relative;}#sk-container-id-7 div.sk-text-repr-fallback {display: none;}</style><div id=\"sk-container-id-7\" class=\"sk-top-container\"><div class=\"sk-text-repr-fallback\"><pre>GridSearchCV(cv=3, estimator=RandomForestRegressor(n_jobs=-1, random_state=42),\n",
              "             n_jobs=-1,\n",
              "             param_grid={&#x27;max_depth&#x27;: [None, 10],\n",
              "                         &#x27;max_features&#x27;: [&#x27;auto&#x27;, &#x27;sqrt&#x27;],\n",
              "                         &#x27;min_samples_leaf&#x27;: [1], &#x27;min_samples_split&#x27;: [2, 5],\n",
              "                         &#x27;n_estimators&#x27;: [100]},\n",
              "             scoring=&#x27;neg_mean_squared_error&#x27;, verbose=1)</pre><b>In a Jupyter environment, please rerun this cell to show the HTML representation or trust the notebook. <br />On GitHub, the HTML representation is unable to render, please try loading this page with nbviewer.org.</b></div><div class=\"sk-container\" hidden><div class=\"sk-item sk-dashed-wrapped\"><div class=\"sk-label-container\"><div class=\"sk-label sk-toggleable\"><input class=\"sk-toggleable__control sk-hidden--visually\" id=\"sk-estimator-id-13\" type=\"checkbox\" ><label for=\"sk-estimator-id-13\" class=\"sk-toggleable__label sk-toggleable__label-arrow\">GridSearchCV</label><div class=\"sk-toggleable__content\"><pre>GridSearchCV(cv=3, estimator=RandomForestRegressor(n_jobs=-1, random_state=42),\n",
              "             n_jobs=-1,\n",
              "             param_grid={&#x27;max_depth&#x27;: [None, 10],\n",
              "                         &#x27;max_features&#x27;: [&#x27;auto&#x27;, &#x27;sqrt&#x27;],\n",
              "                         &#x27;min_samples_leaf&#x27;: [1], &#x27;min_samples_split&#x27;: [2, 5],\n",
              "                         &#x27;n_estimators&#x27;: [100]},\n",
              "             scoring=&#x27;neg_mean_squared_error&#x27;, verbose=1)</pre></div></div></div><div class=\"sk-parallel\"><div class=\"sk-parallel-item\"><div class=\"sk-item\"><div class=\"sk-label-container\"><div class=\"sk-label sk-toggleable\"><input class=\"sk-toggleable__control sk-hidden--visually\" id=\"sk-estimator-id-14\" type=\"checkbox\" ><label for=\"sk-estimator-id-14\" class=\"sk-toggleable__label sk-toggleable__label-arrow\">estimator: RandomForestRegressor</label><div class=\"sk-toggleable__content\"><pre>RandomForestRegressor(n_jobs=-1, random_state=42)</pre></div></div></div><div class=\"sk-serial\"><div class=\"sk-item\"><div class=\"sk-estimator sk-toggleable\"><input class=\"sk-toggleable__control sk-hidden--visually\" id=\"sk-estimator-id-15\" type=\"checkbox\" ><label for=\"sk-estimator-id-15\" class=\"sk-toggleable__label sk-toggleable__label-arrow\">RandomForestRegressor</label><div class=\"sk-toggleable__content\"><pre>RandomForestRegressor(n_jobs=-1, random_state=42)</pre></div></div></div></div></div></div></div></div></div></div>"
            ]
          },
          "metadata": {},
          "execution_count": 37
        }
      ]
    },
    {
      "id": "d66dcefc-0ef4-45b4-b768-d91cfaa8224e",
      "cell_type": "code",
      "metadata": {
        "noteable": {
          "cell_type": "code",
          "output_collection_id": "f4d0b646-3646-41f7-94af-ae33fe7c0bbc"
        },
        "ExecuteTime": {
          "end_time": "2023-09-14T18:59:58.317070+00:00",
          "start_time": "2023-09-14T18:59:58.141886+00:00"
        },
        "colab": {
          "base_uri": "https://localhost:8080/"
        },
        "id": "d66dcefc-0ef4-45b4-b768-d91cfaa8224e",
        "outputId": "84c652f1-0052-4c92-abb9-464ff93695ae"
      },
      "execution_count": null,
      "source": [
        "# Retrieve the best hyperparameters from the grid search\n",
        "best_params_rf = grid_search_rf.best_params_\n",
        "\n",
        "# Predict on the validation set using the tuned Random Forest model\n",
        "Y_val_pred_rf_tuned = grid_search_rf.predict(X_val)\n",
        "\n",
        "# Calculate the regression metrics for the tuned model on the validation set\n",
        "mae_val_rf_tuned = mean_absolute_error(Y_val_scaled, Y_val_pred_rf_tuned)\n",
        "mse_val_rf_tuned = mean_squared_error(Y_val_scaled, Y_val_pred_rf_tuned)\n",
        "rmse_val_rf_tuned = np.sqrt(mse_val_rf_tuned)\n",
        "r2_val_rf_tuned = r2_score(Y_val_scaled, Y_val_pred_rf_tuned)\n",
        "\n",
        "best_params_rf, mae_val_rf_tuned, mse_val_rf_tuned, rmse_val_rf_tuned, r2_val_rf_tuned"
      ],
      "outputs": [
        {
          "output_type": "execute_result",
          "data": {
            "text/plain": [
              "({'max_depth': None,\n",
              "  'max_features': 'sqrt',\n",
              "  'min_samples_leaf': 1,\n",
              "  'min_samples_split': 2,\n",
              "  'n_estimators': 100},\n",
              " 0.2873300480899669,\n",
              " 0.33724946513074083,\n",
              " 0.580731835816447,\n",
              " 0.6271871717071765)"
            ]
          },
          "metadata": {},
          "execution_count": 38
        }
      ]
    },
    {
      "id": "0d248ae0-8f46-4055-bba8-96077244c076",
      "cell_type": "markdown",
      "source": [
        "### Evaluation of Tuned Random Forest Regressor on Validation Dataset\n",
        "\n",
        "After hyperparameter tuning, we evaluated the performance of the tuned Random Forest Regressor on the validation dataset. Here are the results:\n",
        "\n",
        "\n",
        "- **Mean Absolute Error (MAE)**: 0.2873\n",
        "- **Mean Squared Error (MSE)**: 0.3372\n",
        "- **Root Mean Squared Error (RMSE)**: 0.5807\n",
        "- **R-squared (R2)**: 0.6271\n",
        "\n",
        "Comparing these metrics with the initial model, we observe a slight improvement in the performance of the tuned model. The R-squared value has increased to 0.6271, indicating that the tuned model explains about 63% of the variance in movie revenues for the given features.\n",
        "\n",
        "With the Random Forest Regressor evaluated, we'll proceed with the next regressor in our list."
      ],
      "metadata": {
        "noteable": {
          "cell_type": "markdown"
        },
        "id": "0d248ae0-8f46-4055-bba8-96077244c076"
      }
    },
    {
      "id": "88f077dd-3aa6-4cae-a8c7-4db32c0c6a8d",
      "cell_type": "code",
      "metadata": {
        "noteable": {
          "cell_type": "code",
          "output_collection_id": "fe098749-b91b-49e3-821f-b7b471322858"
        },
        "ExecuteTime": {
          "end_time": "2023-09-14T19:02:03.084718+00:00",
          "start_time": "2023-09-14T19:02:02.911020+00:00"
        },
        "colab": {
          "base_uri": "https://localhost:8080/"
        },
        "id": "88f077dd-3aa6-4cae-a8c7-4db32c0c6a8d",
        "outputId": "89e64de8-c7a2-493c-9e2e-5286bd465ca0"
      },
      "execution_count": null,
      "source": [
        "# Predict on the test set using the tuned Random Forest model\n",
        "Y_test_pred_rf_tuned = grid_search_rf.predict(X_test)\n",
        "\n",
        "# Calculate the regression metrics for the tuned model on the test set\n",
        "mae_test_rf_tuned = mean_absolute_error(Y_test_scaled, Y_test_pred_rf_tuned)\n",
        "mse_test_rf_tuned = mean_squared_error(Y_test_scaled, Y_test_pred_rf_tuned)\n",
        "rmse_test_rf_tuned = np.sqrt(mse_test_rf_tuned)\n",
        "r2_test_rf_tuned = r2_score(Y_test_scaled, Y_test_pred_rf_tuned)\n",
        "\n",
        "mae_test_rf_tuned, mse_test_rf_tuned, rmse_test_rf_tuned, r2_test_rf_tuned"
      ],
      "outputs": [
        {
          "output_type": "execute_result",
          "data": {
            "text/plain": [
              "(0.320897771122513, 0.31651437718976544, 0.5625961048476655, 0.687325235375134)"
            ]
          },
          "metadata": {},
          "execution_count": 39
        }
      ]
    },
    {
      "id": "f2b7262f-91ae-49a7-a2ec-44409b864321",
      "cell_type": "markdown",
      "source": [
        "### Evaluation of Tuned Random Forest Regressor on Test Dataset\n",
        "\n",
        "After evaluating the performance of the tuned Random Forest Regressor on the validation dataset, we further assessed its performance on the test dataset to see how well it generalizes to unseen data. Here are the results:\n",
        "\n",
        "- **Mean Absolute Error (MAE)**: 0.3208\n",
        "- **Mean Squared Error (MSE)**: 0.3165\n",
        "- **Root Mean Squared Error (RMSE)**: 0.5625\n",
        "- **R-squared (R2)**: 0.6873\n",
        "\n",
        "The R-squared value of 0.6873 indicates that the tuned model explains about 69% of the variance in movie revenues for the given features on the test dataset. Comparing this with the validation dataset performance, the model seems to generalize well on unseen data.\n",
        "\n",
        "With the evaluation of the Random Forest Regressor complete, we can proceed with the next regressor in our list."
      ],
      "metadata": {
        "noteable": {
          "cell_type": "markdown"
        },
        "id": "f2b7262f-91ae-49a7-a2ec-44409b864321"
      }
    },
    {
      "id": "262156c4-b037-407a-948f-147d1b2b500e",
      "cell_type": "markdown",
      "source": [
        "## Support Vector Regression (SVR)\n",
        "\n",
        "### How SVR Works\n",
        "Support Vector Regression (SVR) is a type of Support Vector Machine (SVM) that is used for regression tasks. The main idea behind SVR is to find a hyperplane that best fits the data, such that the deviations of the actual data points from this hyperplane are minimized. Unlike traditional regression methods that minimize the error rate, SVR aims to fit the error within a certain threshold.\n",
        "\n",
        "The objective of SVR is to find a function that has at most ε deviation from the actual training data (Y values) and is as flat as possible. This is achieved by introducing a margin of tolerance ε, where no penalty is given to errors that lie within this margin. However, any deviation outside this margin is penalized.\n",
        "\n",
        "SVR uses kernel functions (like linear, polynomial, radial basis function, etc.) to transform the input data into a higher-dimensional space where a hyperplane can be found to fit the data. The choice of kernel function can significantly influence the performance of the SVR model.\n",
        "\n",
        "Let's proceed with the data preparation and model training for SVR."
      ],
      "metadata": {
        "noteable": {
          "cell_type": "markdown"
        },
        "id": "262156c4-b037-407a-948f-147d1b2b500e"
      }
    },
    {
      "id": "dff664ad-f61c-4012-8556-d06767b21097",
      "cell_type": "code",
      "metadata": {
        "noteable": {
          "cell_type": "code",
          "output_collection_id": "b5fcd1b6-00de-435f-9262-e139a4c1204f"
        },
        "ExecuteTime": {
          "end_time": "2023-09-14T19:04:50.813317+00:00",
          "start_time": "2023-09-14T19:04:50.506743+00:00"
        },
        "colab": {
          "base_uri": "https://localhost:8080/"
        },
        "id": "dff664ad-f61c-4012-8556-d06767b21097",
        "outputId": "7580f384-29d0-4de0-d5ac-53d84b057e3e"
      },
      "execution_count": null,
      "source": [
        "from sklearn.svm import SVR\n",
        "\n",
        "# Initialize the SVR model with default parameters\n",
        "svr = SVR()\n",
        "\n",
        "# Train the model on the training dataset\n",
        "svr.fit(X_train, Y_train_scaled)\n",
        "\n",
        "# Predict on the validation set\n",
        "Y_val_pred_svr = svr.predict(X_val)\n",
        "\n",
        "# Calculate the regression metrics for the SVR model on the validation set\n",
        "mae_val_svr = mean_absolute_error(Y_val_scaled, Y_val_pred_svr)\n",
        "mse_val_svr = mean_squared_error(Y_val_scaled, Y_val_pred_svr)\n",
        "rmse_val_svr = np.sqrt(mse_val_svr)\n",
        "r2_val_svr = r2_score(Y_val_scaled, Y_val_pred_svr)\n",
        "\n",
        "mae_val_svr, mse_val_svr, rmse_val_svr, r2_val_svr"
      ],
      "outputs": [
        {
          "output_type": "execute_result",
          "data": {
            "text/plain": [
              "(0.28971498024313935,\n",
              " 0.40475905353923447,\n",
              " 0.6362067694855459,\n",
              " 0.5525586157161451)"
            ]
          },
          "metadata": {},
          "execution_count": 40
        }
      ]
    },
    {
      "id": "f7c5edeb-b2a9-4ce7-9314-1e080ca42f69",
      "cell_type": "markdown",
      "source": [
        "### Evaluation of Default SVR Model on Validation Dataset\n",
        "\n",
        "The Support Vector Regression (SVR) model was trained using default parameters. Here are the performance metrics obtained on the validation dataset:\n",
        "\n",
        "- **Mean Absolute Error (MAE)**: 0.2897\n",
        "- **Mean Squared Error (MSE)**: 0.4048\n",
        "- **Root Mean Squared Error (RMSE)**: 0.6362\n",
        "- **R-squared (R2)**: 0.5526\n",
        "\n",
        "The R-squared value of 0.5526 indicates that the default SVR model explains about 55.26% of the variance in movie revenues for the given features on the validation dataset. While this is a decent start, there's potential for improvement. Next, we'll perform hyperparameter tuning to optimize the SVR model's performance."
      ],
      "metadata": {
        "noteable": {
          "cell_type": "markdown"
        },
        "id": "f7c5edeb-b2a9-4ce7-9314-1e080ca42f69"
      }
    },
    {
      "id": "8c054656-0066-4914-bf80-411405a00dd9",
      "cell_type": "code",
      "metadata": {
        "noteable": {
          "cell_type": "code",
          "output_collection_id": "3a22a3fa-8b15-4341-9aaa-737d9f25e9a6"
        },
        "ExecuteTime": {
          "end_time": "2023-09-14T19:06:19.633539+00:00",
          "start_time": "2023-09-14T19:06:13.513004+00:00"
        },
        "colab": {
          "base_uri": "https://localhost:8080/"
        },
        "id": "8c054656-0066-4914-bf80-411405a00dd9",
        "outputId": "42290a52-55d4-497f-ed73-fca4247f5549"
      },
      "execution_count": null,
      "source": [
        "from sklearn.model_selection import GridSearchCV\n",
        "\n",
        "# Define the hyperparameters and their possible values\n",
        "param_grid = {\n",
        "    'C': [0.1, 1, 10],\n",
        "    'kernel': ['linear', 'rbf'],\n",
        "    'gamma': ['scale', 'auto']\n",
        "}\n",
        "\n",
        "# Initialize GridSearchCV with 5-fold cross-validation\n",
        "grid_search_svr = GridSearchCV(SVR(), param_grid, cv=5, scoring='neg_mean_squared_error', n_jobs=-1)\n",
        "\n",
        "# Fit the model to the training data\n",
        "grid_search_svr.fit(X_train, Y_train_scaled)\n",
        "\n",
        "# Get the best parameters from the grid search\n",
        "best_params_svr = grid_search_svr.best_params_\n",
        "best_params_svr"
      ],
      "outputs": [
        {
          "output_type": "execute_result",
          "data": {
            "text/plain": [
              "{'C': 10, 'gamma': 'scale', 'kernel': 'rbf'}"
            ]
          },
          "metadata": {},
          "execution_count": 41
        }
      ]
    },
    {
      "id": "f13c44f3-a061-4498-8fe4-b70c324607f1",
      "cell_type": "code",
      "metadata": {
        "noteable": {
          "cell_type": "code",
          "output_collection_id": "b7e3de20-cae1-418b-96a1-d27ad2343928"
        },
        "ExecuteTime": {
          "end_time": "2023-09-14T19:07:02.092263+00:00",
          "start_time": "2023-09-14T19:07:01.767442+00:00"
        },
        "colab": {
          "base_uri": "https://localhost:8080/"
        },
        "id": "f13c44f3-a061-4498-8fe4-b70c324607f1",
        "outputId": "6d6cab93-321e-40b3-b27a-54b0cb7c4287"
      },
      "execution_count": null,
      "source": [
        "# Train the SVR model with the best hyperparameters\n",
        "svr_tuned = SVR(C=best_params_svr['C'], gamma=best_params_svr['gamma'], kernel=best_params_svr['kernel'])\n",
        "svr_tuned.fit(X_train, Y_train_scaled)\n",
        "\n",
        "# Predict on the validation set\n",
        "Y_val_pred_svr_tuned = svr_tuned.predict(X_val)\n",
        "\n",
        "# Calculate the regression metrics for the tuned SVR model on the validation set\n",
        "mae_val_svr_tuned = mean_absolute_error(Y_val_scaled, Y_val_pred_svr_tuned)\n",
        "mse_val_svr_tuned = mean_squared_error(Y_val_scaled, Y_val_pred_svr_tuned)\n",
        "rmse_val_svr_tuned = np.sqrt(mse_val_svr_tuned)\n",
        "r2_val_svr_tuned = r2_score(Y_val_scaled, Y_val_pred_svr_tuned)\n",
        "\n",
        "mae_val_svr_tuned, mse_val_svr_tuned, rmse_val_svr_tuned, r2_val_svr_tuned"
      ],
      "outputs": [
        {
          "output_type": "execute_result",
          "data": {
            "text/plain": [
              "(0.2843397668759362,\n",
              " 0.36604783098890226,\n",
              " 0.6050188682916445,\n",
              " 0.5953519834093078)"
            ]
          },
          "metadata": {},
          "execution_count": 42
        }
      ]
    },
    {
      "id": "2b9a97b5-ba6a-4e25-adbe-8a1c8a4aa3ae",
      "cell_type": "markdown",
      "source": [
        "### Evaluation of Tuned SVR Model on Validation Dataset\n",
        "\n",
        "After hyperparameter tuning, the SVR model was trained using the best hyperparameters obtained from the grid search. Here are the performance metrics obtained on the validation dataset:\n",
        "\n",
        "- **Mean Absolute Error (MAE)**: 0.2843\n",
        "- **Mean Squared Error (MSE)**: 0.3660\n",
        "- **Root Mean Squared Error (RMSE)**: 0.6050\n",
        "- **R-squared (R2)**: 0.5954\n",
        "\n",
        "Comparing these metrics with the default SVR model:\n",
        "- The MAE has slightly decreased from 0.2897 to 0.2843.\n",
        "- The MSE has decreased from 0.4048 to 0.3660.\n",
        "- The RMSE has decreased from 0.6362 to 0.6050.\n",
        "- The R-squared value has increased from 0.5526 to 0.5954.\n",
        "\n",
        "These improvements indicate that the tuned SVR model performs better on the validation dataset than the default SVR model. The R-squared value of 0.5954 suggests that the tuned SVR model explains approximately 59.54% of the variance in movie revenues for the given features on the validation dataset.\n",
        "\n",
        "Next, we'll evaluate the tuned SVR model on the test dataset to assess its generalization performance."
      ],
      "metadata": {
        "noteable": {
          "cell_type": "markdown"
        },
        "id": "2b9a97b5-ba6a-4e25-adbe-8a1c8a4aa3ae"
      }
    },
    {
      "id": "caa10307-e3df-4822-bead-65fec40e2c83",
      "cell_type": "code",
      "metadata": {
        "noteable": {
          "cell_type": "code",
          "output_collection_id": "ce55988b-75fb-45d8-9147-8a99f291e94a"
        },
        "ExecuteTime": {
          "end_time": "2023-09-14T19:08:39.838190+00:00",
          "start_time": "2023-09-14T19:08:39.646342+00:00"
        },
        "colab": {
          "base_uri": "https://localhost:8080/"
        },
        "id": "caa10307-e3df-4822-bead-65fec40e2c83",
        "outputId": "7e91795e-f3ce-45ea-a000-636d9591de9a"
      },
      "execution_count": null,
      "source": [
        "# Predict on the test set using the tuned SVR model\n",
        "Y_test_pred_svr_tuned = svr_tuned.predict(X_test)\n",
        "\n",
        "# Calculate the regression metrics for the tuned SVR model on the test set\n",
        "mae_test_svr_tuned = mean_absolute_error(Y_test_scaled, Y_test_pred_svr_tuned)\n",
        "mse_test_svr_tuned = mean_squared_error(Y_test_scaled, Y_test_pred_svr_tuned)\n",
        "rmse_test_svr_tuned = np.sqrt(mse_test_svr_tuned)\n",
        "r2_test_svr_tuned = r2_score(Y_test_scaled, Y_test_pred_svr_tuned)\n",
        "\n",
        "mae_test_svr_tuned, mse_test_svr_tuned, rmse_test_svr_tuned, r2_test_svr_tuned"
      ],
      "outputs": [
        {
          "output_type": "execute_result",
          "data": {
            "text/plain": [
              "(0.33344829774914525,\n",
              " 0.4217218688438978,\n",
              " 0.6494011617204714,\n",
              " 0.583394008042589)"
            ]
          },
          "metadata": {},
          "execution_count": 43
        }
      ]
    },
    {
      "id": "f54caf4b-206e-402e-b268-2e7b9a8c125c",
      "cell_type": "markdown",
      "source": [
        "### Evaluation of Tuned SVR Model on Test Dataset\n",
        "\n",
        "After hyperparameter tuning, the SVR model was evaluated on the test dataset to assess its generalization performance. Here are the performance metrics obtained on the test dataset:\n",
        "\n",
        "- **Mean Absolute Error (MAE)**: 0.3334\n",
        "- **Mean Squared Error (MSE)**: 0.4217\n",
        "- **Root Mean Squared Error (RMSE)**: 0.6494\n",
        "- **R-squared (R2)**: 0.5834\n",
        "\n",
        "Comparing these metrics with the validation dataset:\n",
        "- The MAE has increased slightly from 0.2843 (validation) to 0.3334 (test).\n",
        "- The MSE has increased from 0.3660 (validation) to 0.4217 (test).\n",
        "- The RMSE has increased from 0.6050 (validation) to 0.6494 (test).\n",
        "- The R-squared value has decreased slightly from 0.5954 (validation) to 0.5834 (test).\n",
        "\n",
        "The metrics on the test dataset are relatively close to those on the validation dataset, indicating that the tuned SVR model generalizes well to new data. The R-squared value of 0.5834 suggests that the tuned SVR model explains approximately 58.34% of the variance in movie revenues for the given features on the test dataset.\n",
        "\n",
        "### Conclusion for SVR Model\n",
        "The Support Vector Regression (SVR) model, after hyperparameter tuning, demonstrated a decent performance in predicting movie revenues based on the provided features. The model's R-squared value on the test dataset indicates that it can explain about 58.34% of the variance in the target variable. While the SVR model offers a good baseline, further exploration with other regression models and feature engineering might lead to even better results.\n",
        "\n",
        "Next, we'll proceed with the implementation and evaluation of the Ridge Regression model."
      ],
      "metadata": {
        "noteable": {
          "cell_type": "markdown"
        },
        "id": "f54caf4b-206e-402e-b268-2e7b9a8c125c"
      }
    },
    {
      "id": "f46cc64a-be3f-434b-88f8-3b5cc9a9b45c",
      "cell_type": "markdown",
      "source": [
        "## Ridge Regression\n",
        "\n",
        "### How Ridge Regression Works\n",
        "Ridge Regression, also known as Tikhonov regularization, is a type of linear regression that includes a regularization term. This regularization term discourages overly complex models, which can lead to overfitting. The strength of the regularization is controlled by the parameter λ (often represented as `alpha` in implementations). When λ = 0, Ridge Regression is equivalent to Linear Regression. As λ increases, the impact of the regularization term also increases, leading to a reduction in the magnitude of the coefficients, though they are never fully zeroed (unlike Lasso Regression).\n",
        "\n",
        "The regularization term added to the loss function is the sum of the squared values of the coefficients. This forces the learning algorithm to not only fit the data but also keep the model weights as small as possible.\n",
        "\n",
        "Let's proceed with the data preparation and model training for Ridge Regression."
      ],
      "metadata": {
        "noteable": {
          "cell_type": "markdown"
        },
        "id": "f46cc64a-be3f-434b-88f8-3b5cc9a9b45c"
      }
    },
    {
      "id": "68c23938-0071-44c7-a595-918d1dea0235",
      "cell_type": "code",
      "metadata": {
        "noteable": {
          "cell_type": "python",
          "output_collection_id": "476b1b47-79e2-42dd-be20-f42123c02623"
        },
        "ExecuteTime": {
          "end_time": "2023-09-14T19:18:12.691648+00:00",
          "start_time": "2023-09-14T19:18:12.348734+00:00"
        },
        "colab": {
          "base_uri": "https://localhost:8080/"
        },
        "id": "68c23938-0071-44c7-a595-918d1dea0235",
        "outputId": "80e72a7f-0758-444b-8c1e-8f7a173c69f3"
      },
      "execution_count": null,
      "source": [
        "from sklearn.linear_model import Ridge\n",
        "\n",
        "# Initialize the Ridge Regression model with default parameters\n",
        "ridge = Ridge()\n",
        "\n",
        "# Train the model on the training dataset\n",
        "ridge.fit(X_train, Y_train_scaled)\n",
        "\n",
        "# Predict on the validation set\n",
        "Y_val_pred_ridge = ridge.predict(X_val)\n",
        "\n",
        "# Calculate the regression metrics for the Ridge Regression model on the validation set\n",
        "mae_val_ridge = mean_absolute_error(Y_val_scaled, Y_val_pred_ridge)\n",
        "mse_val_ridge = mean_squared_error(Y_val_scaled, Y_val_pred_ridge)\n",
        "rmse_val_ridge = np.sqrt(mse_val_ridge)\n",
        "r2_val_ridge = r2_score(Y_val_scaled, Y_val_pred_ridge)\n",
        "\n",
        "mae_val_ridge, mse_val_ridge, rmse_val_ridge, r2_val_ridge"
      ],
      "outputs": [
        {
          "output_type": "execute_result",
          "data": {
            "text/plain": [
              "(0.3057053762730754,\n",
              " 0.33603407631711496,\n",
              " 0.5796844627183956,\n",
              " 0.6285307247381877)"
            ]
          },
          "metadata": {},
          "execution_count": 44
        }
      ]
    },
    {
      "id": "efdd70d8-cda0-42c6-9898-3cc97a04ce76",
      "cell_type": "markdown",
      "source": [
        "### Evaluation of Default Ridge Regression Model on Validation Dataset\n",
        "\n",
        "The Ridge Regression model was trained using default parameters. Here are the performance metrics obtained on the validation dataset:\n",
        "\n",
        "- **Mean Absolute Error (MAE)**: 0.3057\n",
        "- **Mean Squared Error (MSE)**: 0.3360\n",
        "- **Root Mean Squared Error (RMSE)**: 0.5797\n",
        "- **R-squared (R2)**: 0.6285\n",
        "\n",
        "The R-squared value of 0.6285 indicates that the default Ridge Regression model explains about 62.85% of the variance in movie revenues for the given features on the validation dataset. This is a promising start, and there might be potential for further improvement. Next, we'll perform hyperparameter tuning to optimize the Ridge Regression model's performance."
      ],
      "metadata": {
        "noteable": {
          "cell_type": "markdown"
        },
        "id": "efdd70d8-cda0-42c6-9898-3cc97a04ce76"
      }
    },
    {
      "id": "bdbf0669-87c6-47dd-bf39-8583608d5156",
      "cell_type": "code",
      "metadata": {
        "noteable": {
          "cell_type": "code",
          "output_collection_id": "67ebc0d6-0878-42d9-a1fd-1dafbcff3712"
        },
        "ExecuteTime": {
          "end_time": "2023-09-14T19:17:50.789616+00:00",
          "start_time": "2023-09-14T19:17:45.820318+00:00"
        },
        "colab": {
          "base_uri": "https://localhost:8080/"
        },
        "id": "bdbf0669-87c6-47dd-bf39-8583608d5156",
        "outputId": "030455a5-41b8-4672-a713-e0a1a3fb38a7"
      },
      "execution_count": null,
      "source": [
        "# Define the hyperparameters and their possible values for Ridge Regression\n",
        "param_grid_ridge = {\n",
        "    'alpha': [0.001, 0.01, 0.1, 1, 10, 100]\n",
        "}\n",
        "\n",
        "# Initialize GridSearchCV with 5-fold cross-validation for Ridge Regression\n",
        "grid_search_ridge = GridSearchCV(Ridge(), param_grid_ridge, cv=5, scoring='neg_mean_squared_error', n_jobs=-1)\n",
        "\n",
        "# Fit the model to the training data\n",
        "grid_search_ridge.fit(X_train, Y_train_scaled)\n",
        "\n",
        "# Get the best parameters from the grid search\n",
        "best_params_ridge = grid_search_ridge.best_params_\n",
        "best_params_ridge"
      ],
      "outputs": [
        {
          "output_type": "execute_result",
          "data": {
            "text/plain": [
              "{'alpha': 0.1}"
            ]
          },
          "metadata": {},
          "execution_count": 45
        }
      ]
    },
    {
      "id": "cf9475c2-0a1a-4bb2-a3cf-6347441b4712",
      "cell_type": "code",
      "metadata": {
        "noteable": {
          "cell_type": "code",
          "output_collection_id": "4c3fb0a3-006d-4bc7-aff4-806325abb86c"
        },
        "ExecuteTime": {
          "end_time": "2023-09-14T19:18:37.492681+00:00",
          "start_time": "2023-09-14T19:18:37.141647+00:00"
        },
        "colab": {
          "base_uri": "https://localhost:8080/"
        },
        "id": "cf9475c2-0a1a-4bb2-a3cf-6347441b4712",
        "outputId": "35b6e62a-cc43-42a4-b96d-12b0ddef131d"
      },
      "execution_count": null,
      "source": [
        "# Train the Ridge Regression model with the best hyperparameter\n",
        "ridge_tuned = Ridge(alpha=best_params_ridge['alpha'])\n",
        "ridge_tuned.fit(X_train, Y_train_scaled)\n",
        "\n",
        "# Predict on the validation set\n",
        "Y_val_pred_ridge_tuned = ridge_tuned.predict(X_val)\n",
        "\n",
        "# Calculate the regression metrics for the tuned Ridge Regression model on the validation set\n",
        "mae_val_ridge_tuned = mean_absolute_error(Y_val_scaled, Y_val_pred_ridge_tuned)\n",
        "mse_val_ridge_tuned = mean_squared_error(Y_val_scaled, Y_val_pred_ridge_tuned)\n",
        "rmse_val_ridge_tuned = np.sqrt(mse_val_ridge_tuned)\n",
        "r2_val_ridge_tuned = r2_score(Y_val_scaled, Y_val_pred_ridge_tuned)\n",
        "\n",
        "mae_val_ridge_tuned, mse_val_ridge_tuned, rmse_val_ridge_tuned, r2_val_ridge_tuned"
      ],
      "outputs": [
        {
          "output_type": "execute_result",
          "data": {
            "text/plain": [
              "(0.30997955499311364,\n",
              " 0.33714537186770804,\n",
              " 0.5806422064126134,\n",
              " 0.6273022417304379)"
            ]
          },
          "metadata": {},
          "execution_count": 46
        }
      ]
    },
    {
      "id": "e8c9bb2b-5572-400e-9978-b8ccfa1612c4",
      "cell_type": "code",
      "metadata": {
        "noteable": {
          "cell_type": "code",
          "output_collection_id": "c133475b-ba16-4f90-99dd-a7f43d42b80e"
        },
        "ExecuteTime": {
          "end_time": "2023-09-14T19:20:08.991886+00:00",
          "start_time": "2023-09-14T19:20:08.638934+00:00"
        },
        "colab": {
          "base_uri": "https://localhost:8080/"
        },
        "id": "e8c9bb2b-5572-400e-9978-b8ccfa1612c4",
        "outputId": "b773fbc2-9290-47dd-cd2e-ce12975e2c6f"
      },
      "execution_count": null,
      "source": [
        "# Predict on the test set using the tuned Ridge Regression model\n",
        "Y_test_pred_ridge_tuned = ridge_tuned.predict(X_test)\n",
        "\n",
        "# Calculate the regression metrics for the tuned Ridge Regression model on the test set\n",
        "mae_test_ridge_tuned = mean_absolute_error(Y_test_scaled, Y_test_pred_ridge_tuned)\n",
        "mse_test_ridge_tuned = mean_squared_error(Y_test_scaled, Y_test_pred_ridge_tuned)\n",
        "rmse_test_ridge_tuned = np.sqrt(mse_test_ridge_tuned)\n",
        "r2_test_ridge_tuned = r2_score(Y_test_scaled, Y_test_pred_ridge_tuned)\n",
        "\n",
        "mae_test_ridge_tuned, mse_test_ridge_tuned, rmse_test_ridge_tuned, r2_test_ridge_tuned"
      ],
      "outputs": [
        {
          "output_type": "execute_result",
          "data": {
            "text/plain": [
              "(0.3575259494189769,\n",
              " 0.41221098018791735,\n",
              " 0.6420365878888191,\n",
              " 0.5927895208097675)"
            ]
          },
          "metadata": {},
          "execution_count": 47
        }
      ]
    },
    {
      "id": "84e0a642-a89e-4515-a5c2-a775f22b99fe",
      "cell_type": "markdown",
      "source": [
        "### Evaluation of Tuned Ridge Regression Model on Test Dataset\n",
        "\n",
        "After hyperparameter tuning, the Ridge Regression model was evaluated on the test dataset to assess its generalization performance. Here are the performance metrics obtained on the test dataset:\n",
        "\n",
        "- **Mean Absolute Error (MAE)**: 0.3575\n",
        "- **Mean Squared Error (MSE)**: 0.4122\n",
        "- **Root Mean Squared Error (RMSE)**: 0.6420\n",
        "- **R-squared (R2)**: 0.5928\n",
        "\n",
        "Comparing these metrics with the tuned Ridge Regression model on the validation dataset:\n",
        "- The MAE has increased from 0.3100 to 0.3575.\n",
        "- The MSE has increased from 0.3371 to 0.4122.\n",
        "- The RMSE has increased from 0.5806 to 0.6420.\n",
        "- The R-squared value has decreased from 0.6273 to 0.5928.\n",
        "\n",
        "The differences in metrics between the validation and test datasets indicate that the model's performance is slightly reduced on the test dataset. The R-squared value of 0.5928 suggests that the tuned Ridge Regression model explains approximately 59.28% of the variance in movie revenues for the given features on the test dataset.\n",
        "\n",
        "In conclusion, the Ridge Regression model, after hyperparameter tuning, provides a decent performance in predicting movie revenues. However, there might be other regression models or techniques that could further improve the prediction accuracy."
      ],
      "metadata": {
        "noteable": {
          "cell_type": "markdown"
        },
        "id": "84e0a642-a89e-4515-a5c2-a775f22b99fe"
      }
    },
    {
      "cell_type": "markdown",
      "source": [
        "# Comparative Analysis of Regression Models"
      ],
      "metadata": {
        "id": "NjLd6tXdQfMI"
      },
      "id": "NjLd6tXdQfMI"
    },
    {
      "id": "4a9db249-7361-4b6b-b7d3-ef19ff4f5531",
      "cell_type": "code",
      "metadata": {
        "noteable": {
          "cell_type": "code",
          "output_collection_id": "596b5dfd-50a6-4d52-a78a-07e611d59534"
        },
        "ExecuteTime": {
          "end_time": "2023-09-14T19:23:50.897677+00:00",
          "start_time": "2023-09-14T19:23:50.727218+00:00"
        },
        "colab": {
          "base_uri": "https://localhost:8080/",
          "height": 238
        },
        "id": "4a9db249-7361-4b6b-b7d3-ef19ff4f5531",
        "outputId": "7ba36ed7-f71b-4374-cd46-459fa10f3f36"
      },
      "execution_count": null,
      "source": [
        "import pandas as pd\n",
        "\n",
        "# Create a DataFrame to store the evaluation metrics for each model\n",
        "results = pd.DataFrame({\n",
        "    'Model': ['CatBoost', 'XGBoost', 'LightGBM', 'SVR', 'Random Forest', 'Ridge Regression'],\n",
        "    'MAE': [\n",
        "        mae_test_best, mae_test_best_xg, mae_test_tuned, mae_test_svr_tuned, mae_test_rf_tuned, mae_test_ridge_tuned\n",
        "    ],\n",
        "    'MSE': [\n",
        "        mse_test_best, mse_test_best_xg, mse_test_tuned, mse_test_svr_tuned, mse_test_rf_tuned, mse_test_ridge_tuned\n",
        "    ],\n",
        "    'RMSE': [\n",
        "        rmse_test_best, rmse_test_best_xg, rmse_test_tuned, rmse_test_svr_tuned, rmse_test_rf_tuned, rmse_test_ridge_tuned\n",
        "    ],\n",
        "    'R2': [\n",
        "        r2_test_best, r2_test_best_xg, r2_test_tuned, r2_test_svr_tuned, r2_test_rf_tuned, r2_test_ridge_tuned\n",
        "    ]\n",
        "})\n",
        "\n",
        "# Display the results\n",
        "results"
      ],
      "outputs": [
        {
          "output_type": "execute_result",
          "data": {
            "text/plain": [
              "              Model       MAE       MSE      RMSE        R2\n",
              "0          CatBoost  0.304276  0.273774  0.523234  0.729548\n",
              "1           XGBoost  0.325936  0.306157  0.523234  0.697557\n",
              "2          LightGBM  0.385034  0.449069  0.670126  0.556379\n",
              "3               SVR  0.333448  0.421722  0.649401  0.583394\n",
              "4     Random Forest  0.320898  0.316514  0.562596  0.687325\n",
              "5  Ridge Regression  0.357526  0.412211  0.642037  0.592790"
            ],
            "text/html": [
              "\n",
              "  <div id=\"df-38d1d7dd-94ed-46ba-9c37-9c60cda44d66\" class=\"colab-df-container\">\n",
              "    <div>\n",
              "<style scoped>\n",
              "    .dataframe tbody tr th:only-of-type {\n",
              "        vertical-align: middle;\n",
              "    }\n",
              "\n",
              "    .dataframe tbody tr th {\n",
              "        vertical-align: top;\n",
              "    }\n",
              "\n",
              "    .dataframe thead th {\n",
              "        text-align: right;\n",
              "    }\n",
              "</style>\n",
              "<table border=\"1\" class=\"dataframe\">\n",
              "  <thead>\n",
              "    <tr style=\"text-align: right;\">\n",
              "      <th></th>\n",
              "      <th>Model</th>\n",
              "      <th>MAE</th>\n",
              "      <th>MSE</th>\n",
              "      <th>RMSE</th>\n",
              "      <th>R2</th>\n",
              "    </tr>\n",
              "  </thead>\n",
              "  <tbody>\n",
              "    <tr>\n",
              "      <th>0</th>\n",
              "      <td>CatBoost</td>\n",
              "      <td>0.304276</td>\n",
              "      <td>0.273774</td>\n",
              "      <td>0.523234</td>\n",
              "      <td>0.729548</td>\n",
              "    </tr>\n",
              "    <tr>\n",
              "      <th>1</th>\n",
              "      <td>XGBoost</td>\n",
              "      <td>0.325936</td>\n",
              "      <td>0.306157</td>\n",
              "      <td>0.523234</td>\n",
              "      <td>0.697557</td>\n",
              "    </tr>\n",
              "    <tr>\n",
              "      <th>2</th>\n",
              "      <td>LightGBM</td>\n",
              "      <td>0.385034</td>\n",
              "      <td>0.449069</td>\n",
              "      <td>0.670126</td>\n",
              "      <td>0.556379</td>\n",
              "    </tr>\n",
              "    <tr>\n",
              "      <th>3</th>\n",
              "      <td>SVR</td>\n",
              "      <td>0.333448</td>\n",
              "      <td>0.421722</td>\n",
              "      <td>0.649401</td>\n",
              "      <td>0.583394</td>\n",
              "    </tr>\n",
              "    <tr>\n",
              "      <th>4</th>\n",
              "      <td>Random Forest</td>\n",
              "      <td>0.320898</td>\n",
              "      <td>0.316514</td>\n",
              "      <td>0.562596</td>\n",
              "      <td>0.687325</td>\n",
              "    </tr>\n",
              "    <tr>\n",
              "      <th>5</th>\n",
              "      <td>Ridge Regression</td>\n",
              "      <td>0.357526</td>\n",
              "      <td>0.412211</td>\n",
              "      <td>0.642037</td>\n",
              "      <td>0.592790</td>\n",
              "    </tr>\n",
              "  </tbody>\n",
              "</table>\n",
              "</div>\n",
              "    <div class=\"colab-df-buttons\">\n",
              "\n",
              "  <div class=\"colab-df-container\">\n",
              "    <button class=\"colab-df-convert\" onclick=\"convertToInteractive('df-38d1d7dd-94ed-46ba-9c37-9c60cda44d66')\"\n",
              "            title=\"Convert this dataframe to an interactive table.\"\n",
              "            style=\"display:none;\">\n",
              "\n",
              "  <svg xmlns=\"http://www.w3.org/2000/svg\" height=\"24px\" viewBox=\"0 -960 960 960\">\n",
              "    <path d=\"M120-120v-720h720v720H120Zm60-500h600v-160H180v160Zm220 220h160v-160H400v160Zm0 220h160v-160H400v160ZM180-400h160v-160H180v160Zm440 0h160v-160H620v160ZM180-180h160v-160H180v160Zm440 0h160v-160H620v160Z\"/>\n",
              "  </svg>\n",
              "    </button>\n",
              "\n",
              "  <style>\n",
              "    .colab-df-container {\n",
              "      display:flex;\n",
              "      gap: 12px;\n",
              "    }\n",
              "\n",
              "    .colab-df-convert {\n",
              "      background-color: #E8F0FE;\n",
              "      border: none;\n",
              "      border-radius: 50%;\n",
              "      cursor: pointer;\n",
              "      display: none;\n",
              "      fill: #1967D2;\n",
              "      height: 32px;\n",
              "      padding: 0 0 0 0;\n",
              "      width: 32px;\n",
              "    }\n",
              "\n",
              "    .colab-df-convert:hover {\n",
              "      background-color: #E2EBFA;\n",
              "      box-shadow: 0px 1px 2px rgba(60, 64, 67, 0.3), 0px 1px 3px 1px rgba(60, 64, 67, 0.15);\n",
              "      fill: #174EA6;\n",
              "    }\n",
              "\n",
              "    .colab-df-buttons div {\n",
              "      margin-bottom: 4px;\n",
              "    }\n",
              "\n",
              "    [theme=dark] .colab-df-convert {\n",
              "      background-color: #3B4455;\n",
              "      fill: #D2E3FC;\n",
              "    }\n",
              "\n",
              "    [theme=dark] .colab-df-convert:hover {\n",
              "      background-color: #434B5C;\n",
              "      box-shadow: 0px 1px 3px 1px rgba(0, 0, 0, 0.15);\n",
              "      filter: drop-shadow(0px 1px 2px rgba(0, 0, 0, 0.3));\n",
              "      fill: #FFFFFF;\n",
              "    }\n",
              "  </style>\n",
              "\n",
              "    <script>\n",
              "      const buttonEl =\n",
              "        document.querySelector('#df-38d1d7dd-94ed-46ba-9c37-9c60cda44d66 button.colab-df-convert');\n",
              "      buttonEl.style.display =\n",
              "        google.colab.kernel.accessAllowed ? 'block' : 'none';\n",
              "\n",
              "      async function convertToInteractive(key) {\n",
              "        const element = document.querySelector('#df-38d1d7dd-94ed-46ba-9c37-9c60cda44d66');\n",
              "        const dataTable =\n",
              "          await google.colab.kernel.invokeFunction('convertToInteractive',\n",
              "                                                    [key], {});\n",
              "        if (!dataTable) return;\n",
              "\n",
              "        const docLinkHtml = 'Like what you see? Visit the ' +\n",
              "          '<a target=\"_blank\" href=https://colab.research.google.com/notebooks/data_table.ipynb>data table notebook</a>'\n",
              "          + ' to learn more about interactive tables.';\n",
              "        element.innerHTML = '';\n",
              "        dataTable['output_type'] = 'display_data';\n",
              "        await google.colab.output.renderOutput(dataTable, element);\n",
              "        const docLink = document.createElement('div');\n",
              "        docLink.innerHTML = docLinkHtml;\n",
              "        element.appendChild(docLink);\n",
              "      }\n",
              "    </script>\n",
              "  </div>\n",
              "\n",
              "\n",
              "<div id=\"df-adc06c6e-acf2-4ff1-a671-14aa1c01bc87\">\n",
              "  <button class=\"colab-df-quickchart\" onclick=\"quickchart('df-adc06c6e-acf2-4ff1-a671-14aa1c01bc87')\"\n",
              "            title=\"Suggest charts.\"\n",
              "            style=\"display:none;\">\n",
              "\n",
              "<svg xmlns=\"http://www.w3.org/2000/svg\" height=\"24px\"viewBox=\"0 0 24 24\"\n",
              "     width=\"24px\">\n",
              "    <g>\n",
              "        <path d=\"M19 3H5c-1.1 0-2 .9-2 2v14c0 1.1.9 2 2 2h14c1.1 0 2-.9 2-2V5c0-1.1-.9-2-2-2zM9 17H7v-7h2v7zm4 0h-2V7h2v10zm4 0h-2v-4h2v4z\"/>\n",
              "    </g>\n",
              "</svg>\n",
              "  </button>\n",
              "\n",
              "<style>\n",
              "  .colab-df-quickchart {\n",
              "      --bg-color: #E8F0FE;\n",
              "      --fill-color: #1967D2;\n",
              "      --hover-bg-color: #E2EBFA;\n",
              "      --hover-fill-color: #174EA6;\n",
              "      --disabled-fill-color: #AAA;\n",
              "      --disabled-bg-color: #DDD;\n",
              "  }\n",
              "\n",
              "  [theme=dark] .colab-df-quickchart {\n",
              "      --bg-color: #3B4455;\n",
              "      --fill-color: #D2E3FC;\n",
              "      --hover-bg-color: #434B5C;\n",
              "      --hover-fill-color: #FFFFFF;\n",
              "      --disabled-bg-color: #3B4455;\n",
              "      --disabled-fill-color: #666;\n",
              "  }\n",
              "\n",
              "  .colab-df-quickchart {\n",
              "    background-color: var(--bg-color);\n",
              "    border: none;\n",
              "    border-radius: 50%;\n",
              "    cursor: pointer;\n",
              "    display: none;\n",
              "    fill: var(--fill-color);\n",
              "    height: 32px;\n",
              "    padding: 0;\n",
              "    width: 32px;\n",
              "  }\n",
              "\n",
              "  .colab-df-quickchart:hover {\n",
              "    background-color: var(--hover-bg-color);\n",
              "    box-shadow: 0 1px 2px rgba(60, 64, 67, 0.3), 0 1px 3px 1px rgba(60, 64, 67, 0.15);\n",
              "    fill: var(--button-hover-fill-color);\n",
              "  }\n",
              "\n",
              "  .colab-df-quickchart-complete:disabled,\n",
              "  .colab-df-quickchart-complete:disabled:hover {\n",
              "    background-color: var(--disabled-bg-color);\n",
              "    fill: var(--disabled-fill-color);\n",
              "    box-shadow: none;\n",
              "  }\n",
              "\n",
              "  .colab-df-spinner {\n",
              "    border: 2px solid var(--fill-color);\n",
              "    border-color: transparent;\n",
              "    border-bottom-color: var(--fill-color);\n",
              "    animation:\n",
              "      spin 1s steps(1) infinite;\n",
              "  }\n",
              "\n",
              "  @keyframes spin {\n",
              "    0% {\n",
              "      border-color: transparent;\n",
              "      border-bottom-color: var(--fill-color);\n",
              "      border-left-color: var(--fill-color);\n",
              "    }\n",
              "    20% {\n",
              "      border-color: transparent;\n",
              "      border-left-color: var(--fill-color);\n",
              "      border-top-color: var(--fill-color);\n",
              "    }\n",
              "    30% {\n",
              "      border-color: transparent;\n",
              "      border-left-color: var(--fill-color);\n",
              "      border-top-color: var(--fill-color);\n",
              "      border-right-color: var(--fill-color);\n",
              "    }\n",
              "    40% {\n",
              "      border-color: transparent;\n",
              "      border-right-color: var(--fill-color);\n",
              "      border-top-color: var(--fill-color);\n",
              "    }\n",
              "    60% {\n",
              "      border-color: transparent;\n",
              "      border-right-color: var(--fill-color);\n",
              "    }\n",
              "    80% {\n",
              "      border-color: transparent;\n",
              "      border-right-color: var(--fill-color);\n",
              "      border-bottom-color: var(--fill-color);\n",
              "    }\n",
              "    90% {\n",
              "      border-color: transparent;\n",
              "      border-bottom-color: var(--fill-color);\n",
              "    }\n",
              "  }\n",
              "</style>\n",
              "\n",
              "  <script>\n",
              "    async function quickchart(key) {\n",
              "      const quickchartButtonEl =\n",
              "        document.querySelector('#' + key + ' button');\n",
              "      quickchartButtonEl.disabled = true;  // To prevent multiple clicks.\n",
              "      quickchartButtonEl.classList.add('colab-df-spinner');\n",
              "      try {\n",
              "        const charts = await google.colab.kernel.invokeFunction(\n",
              "            'suggestCharts', [key], {});\n",
              "      } catch (error) {\n",
              "        console.error('Error during call to suggestCharts:', error);\n",
              "      }\n",
              "      quickchartButtonEl.classList.remove('colab-df-spinner');\n",
              "      quickchartButtonEl.classList.add('colab-df-quickchart-complete');\n",
              "    }\n",
              "    (() => {\n",
              "      let quickchartButtonEl =\n",
              "        document.querySelector('#df-adc06c6e-acf2-4ff1-a671-14aa1c01bc87 button');\n",
              "      quickchartButtonEl.style.display =\n",
              "        google.colab.kernel.accessAllowed ? 'block' : 'none';\n",
              "    })();\n",
              "  </script>\n",
              "</div>\n",
              "    </div>\n",
              "  </div>\n"
            ]
          },
          "metadata": {},
          "execution_count": 48
        }
      ]
    },
    {
      "id": "5f414925-c398-4c05-a8d2-3aeee87e300e",
      "cell_type": "code",
      "metadata": {
        "noteable": {
          "cell_type": "code",
          "output_collection_id": "d7571e5b-64bf-4a54-8567-e751ecf4a784"
        },
        "ExecuteTime": {
          "end_time": "2023-09-14T19:23:44.212595+00:00",
          "start_time": "2023-09-14T19:23:43.661804+00:00"
        },
        "colab": {
          "base_uri": "https://localhost:8080/",
          "height": 710
        },
        "id": "5f414925-c398-4c05-a8d2-3aeee87e300e",
        "outputId": "7908ea1c-0c2b-48ad-dd61-34651c049749"
      },
      "execution_count": null,
      "source": [
        "import matplotlib.pyplot as plt\n",
        "\n",
        "# Set up the figure and axes\n",
        "fig, axs = plt.subplots(nrows=2, ncols=2, figsize=(15, 10))\n",
        "fig.suptitle('Comparative Analysis of Regression Models', fontsize=16)\n",
        "\n",
        "# Plot MAE\n",
        "axs[0, 0].barh(results['Model'], results['MAE'], color='skyblue')\n",
        "axs[0, 0].set_title('Mean Absolute Error (MAE)')\n",
        "axs[0, 0].set_xlabel('MAE')\n",
        "\n",
        "# Plot MSE\n",
        "axs[0, 1].barh(results['Model'], results['MSE'], color='salmon')\n",
        "axs[0, 1].set_title('Mean Squared Error (MSE)')\n",
        "axs[0, 1].set_xlabel('MSE')\n",
        "\n",
        "# Plot RMSE\n",
        "axs[1, 0].barh(results['Model'], results['RMSE'], color='lightgreen')\n",
        "axs[1, 0].set_title('Root Mean Squared Error (RMSE)')\n",
        "axs[1, 0].set_xlabel('RMSE')\n",
        "\n",
        "# Plot R2\n",
        "axs[1, 1].barh(results['Model'], results['R2'], color='orchid')\n",
        "axs[1, 1].set_title('R-squared (R2)')\n",
        "axs[1, 1].set_xlabel('R2')\n",
        "\n",
        "# Adjust layout\n",
        "plt.tight_layout()\n",
        "plt.subplots_adjust(top=0.90)\n",
        "plt.show()"
      ],
      "outputs": [
        {
          "output_type": "display_data",
          "data": {
            "text/plain": [
              "<Figure size 1500x1000 with 4 Axes>"
            ],
            "image/png": "[encoded data removed]"
          },
          "metadata": {}
        }
      ]
    }
  ]
}